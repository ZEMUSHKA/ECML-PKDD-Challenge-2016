{
 "cells": [
  {
   "cell_type": "code",
   "execution_count": 1,
   "metadata": {
    "collapsed": false
   },
   "outputs": [],
   "source": [
    "import sklearn\n",
    "from sklearn.cross_validation import train_test_split\n",
    "from sklearn.preprocessing import StandardScaler\n",
    "from sklearn.grid_search import GridSearchCV\n",
    "from sklearn.metrics import roc_auc_score\n",
    "from sklearn.linear_model import LogisticRegressionCV\n",
    "\n",
    "import numpy as np\n",
    "from joblib import Parallel, delayed\n",
    "from collections import defaultdict, Counter\n",
    "import itertools\n",
    "import xgboost as xgb\n",
    "\n",
    "from utils import parallel_groupby_and_apply, parallel_apply_to_rows, \\\n",
    "    save_pickle, read_pickle\n",
    "\n",
    "import pandas as pd\n",
    "pd.set_option('display.max_rows', 500)\n",
    "\n",
    "import matplotlib\n",
    "import matplotlib.pyplot as plt\n",
    "%matplotlib inline\n",
    "%config IPCompleter.greedy = True\n",
    "%config InlineBackend.figure_formats=['retina']\n",
    "plt.rcParams['figure.figsize'] = 18, 9\n",
    "plt.style.use('ggplot')\n",
    "from IPython.display import Image, display"
   ]
  },
  {
   "cell_type": "markdown",
   "metadata": {},
   "source": [
    "# Read Data"
   ]
  },
  {
   "cell_type": "code",
   "execution_count": 2,
   "metadata": {
    "collapsed": false
   },
   "outputs": [
    {
     "data": {
      "text/html": [
       "<div>\n",
       "<table border=\"1\" class=\"dataframe\">\n",
       "  <thead>\n",
       "    <tr style=\"text-align: right;\">\n",
       "      <th></th>\n",
       "      <th>USER_ID</th>\n",
       "      <th>AGE_CAT</th>\n",
       "      <th>LOC_CAT</th>\n",
       "      <th>INC_CAT</th>\n",
       "      <th>GEN</th>\n",
       "      <th>LOC_GEO_X</th>\n",
       "      <th>LOC_GEO_Y</th>\n",
       "      <th>TARGET_TASK_2</th>\n",
       "      <th>C201401</th>\n",
       "      <th>C201402</th>\n",
       "      <th>...</th>\n",
       "      <th>W201403</th>\n",
       "      <th>W201404</th>\n",
       "      <th>W201405</th>\n",
       "      <th>W201406</th>\n",
       "      <th>W201407</th>\n",
       "      <th>W201408</th>\n",
       "      <th>W201409</th>\n",
       "      <th>W201410</th>\n",
       "      <th>W201411</th>\n",
       "      <th>W201412</th>\n",
       "    </tr>\n",
       "  </thead>\n",
       "  <tbody>\n",
       "    <tr>\n",
       "      <th>0</th>\n",
       "      <td>30277</td>\n",
       "      <td>a</td>\n",
       "      <td>c</td>\n",
       "      <td>b</td>\n",
       "      <td>0</td>\n",
       "      <td>857400</td>\n",
       "      <td>334900</td>\n",
       "      <td>2014.04.30</td>\n",
       "      <td>0</td>\n",
       "      <td>0</td>\n",
       "      <td>...</td>\n",
       "      <td>0</td>\n",
       "      <td>0</td>\n",
       "      <td>0</td>\n",
       "      <td>0</td>\n",
       "      <td>0</td>\n",
       "      <td>0</td>\n",
       "      <td>0</td>\n",
       "      <td>0</td>\n",
       "      <td>0</td>\n",
       "      <td>0</td>\n",
       "    </tr>\n",
       "    <tr>\n",
       "      <th>1</th>\n",
       "      <td>99045</td>\n",
       "      <td>b</td>\n",
       "      <td>b</td>\n",
       "      <td>b</td>\n",
       "      <td>0</td>\n",
       "      <td>699400</td>\n",
       "      <td>173300</td>\n",
       "      <td>NaN</td>\n",
       "      <td>0</td>\n",
       "      <td>0</td>\n",
       "      <td>...</td>\n",
       "      <td>0</td>\n",
       "      <td>0</td>\n",
       "      <td>0</td>\n",
       "      <td>0</td>\n",
       "      <td>0</td>\n",
       "      <td>0</td>\n",
       "      <td>0</td>\n",
       "      <td>0</td>\n",
       "      <td>0</td>\n",
       "      <td>0</td>\n",
       "    </tr>\n",
       "    <tr>\n",
       "      <th>2</th>\n",
       "      <td>19239</td>\n",
       "      <td>a</td>\n",
       "      <td>b</td>\n",
       "      <td>d</td>\n",
       "      <td>0</td>\n",
       "      <td>695900</td>\n",
       "      <td>170700</td>\n",
       "      <td>NaN</td>\n",
       "      <td>0</td>\n",
       "      <td>0</td>\n",
       "      <td>...</td>\n",
       "      <td>0</td>\n",
       "      <td>0</td>\n",
       "      <td>0</td>\n",
       "      <td>0</td>\n",
       "      <td>0</td>\n",
       "      <td>0</td>\n",
       "      <td>0</td>\n",
       "      <td>0</td>\n",
       "      <td>0</td>\n",
       "      <td>0</td>\n",
       "    </tr>\n",
       "    <tr>\n",
       "      <th>3</th>\n",
       "      <td>24396</td>\n",
       "      <td>a</td>\n",
       "      <td>b</td>\n",
       "      <td>a</td>\n",
       "      <td>0</td>\n",
       "      <td>585900</td>\n",
       "      <td>78300</td>\n",
       "      <td>NaN</td>\n",
       "      <td>0</td>\n",
       "      <td>0</td>\n",
       "      <td>...</td>\n",
       "      <td>0</td>\n",
       "      <td>0</td>\n",
       "      <td>0</td>\n",
       "      <td>0</td>\n",
       "      <td>0</td>\n",
       "      <td>0</td>\n",
       "      <td>0</td>\n",
       "      <td>0</td>\n",
       "      <td>0</td>\n",
       "      <td>0</td>\n",
       "    </tr>\n",
       "    <tr>\n",
       "      <th>4</th>\n",
       "      <td>111628</td>\n",
       "      <td>b</td>\n",
       "      <td>b</td>\n",
       "      <td>a</td>\n",
       "      <td>0</td>\n",
       "      <td>586000</td>\n",
       "      <td>78200</td>\n",
       "      <td>2015.06.30</td>\n",
       "      <td>1</td>\n",
       "      <td>1</td>\n",
       "      <td>...</td>\n",
       "      <td>0</td>\n",
       "      <td>0</td>\n",
       "      <td>0</td>\n",
       "      <td>0</td>\n",
       "      <td>0</td>\n",
       "      <td>0</td>\n",
       "      <td>0</td>\n",
       "      <td>0</td>\n",
       "      <td>0</td>\n",
       "      <td>0</td>\n",
       "    </tr>\n",
       "  </tbody>\n",
       "</table>\n",
       "<p>5 rows × 32 columns</p>\n",
       "</div>"
      ],
      "text/plain": [
       "   USER_ID AGE_CAT LOC_CAT INC_CAT  GEN  LOC_GEO_X  LOC_GEO_Y TARGET_TASK_2  \\\n",
       "0    30277       a       c       b    0     857400     334900    2014.04.30   \n",
       "1    99045       b       b       b    0     699400     173300           NaN   \n",
       "2    19239       a       b       d    0     695900     170700           NaN   \n",
       "3    24396       a       b       a    0     585900      78300           NaN   \n",
       "4   111628       b       b       a    0     586000      78200    2015.06.30   \n",
       "\n",
       "   C201401  C201402   ...     W201403  W201404  W201405  W201406  W201407  \\\n",
       "0        0        0   ...           0        0        0        0        0   \n",
       "1        0        0   ...           0        0        0        0        0   \n",
       "2        0        0   ...           0        0        0        0        0   \n",
       "3        0        0   ...           0        0        0        0        0   \n",
       "4        1        1   ...           0        0        0        0        0   \n",
       "\n",
       "   W201408  W201409  W201410  W201411  W201412  \n",
       "0        0        0        0        0        0  \n",
       "1        0        0        0        0        0  \n",
       "2        0        0        0        0        0  \n",
       "3        0        0        0        0        0  \n",
       "4        0        0        0        0        0  \n",
       "\n",
       "[5 rows x 32 columns]"
      ]
     },
     "execution_count": 2,
     "metadata": {},
     "output_type": "execute_result"
    }
   ],
   "source": [
    "users_14 = pd.read_csv(\"ecml_pkkd_2016_dataset/users_2014.csv\", na_values=\"-\")\n",
    "users_14.head(5)"
   ]
  },
  {
   "cell_type": "code",
   "execution_count": 3,
   "metadata": {
    "collapsed": false
   },
   "outputs": [
    {
     "data": {
      "text/html": [
       "<div>\n",
       "<table border=\"1\" class=\"dataframe\">\n",
       "  <thead>\n",
       "    <tr style=\"text-align: right;\">\n",
       "      <th></th>\n",
       "      <th>USER_ID</th>\n",
       "      <th>POI_ID</th>\n",
       "      <th>CHANNEL</th>\n",
       "      <th>DATE</th>\n",
       "      <th>TIME_CAT</th>\n",
       "      <th>LOC_CAT</th>\n",
       "      <th>MC_CAT</th>\n",
       "      <th>CARD_CAT</th>\n",
       "      <th>AMT_CAT</th>\n",
       "      <th>GEO_X</th>\n",
       "      <th>GEO_Y</th>\n",
       "    </tr>\n",
       "  </thead>\n",
       "  <tbody>\n",
       "    <tr>\n",
       "      <th>0</th>\n",
       "      <td>91498</td>\n",
       "      <td>28052</td>\n",
       "      <td>p</td>\n",
       "      <td>2014-01-01</td>\n",
       "      <td>a</td>\n",
       "      <td>b</td>\n",
       "      <td>b</td>\n",
       "      <td>d</td>\n",
       "      <td>b</td>\n",
       "      <td>605119.0</td>\n",
       "      <td>58997.8</td>\n",
       "    </tr>\n",
       "  </tbody>\n",
       "</table>\n",
       "</div>"
      ],
      "text/plain": [
       "   USER_ID  POI_ID CHANNEL        DATE TIME_CAT LOC_CAT MC_CAT CARD_CAT  \\\n",
       "0    91498   28052       p  2014-01-01        a       b      b        d   \n",
       "\n",
       "  AMT_CAT     GEO_X    GEO_Y  \n",
       "0       b  605119.0  58997.8  "
      ]
     },
     "execution_count": 3,
     "metadata": {},
     "output_type": "execute_result"
    }
   ],
   "source": [
    "train_14 = pd.read_csv(\"ecml_pkkd_2016_dataset/train_2014.csv\", na_values=\"-\")\n",
    "train_14.head(1)"
   ]
  },
  {
   "cell_type": "code",
   "execution_count": 4,
   "metadata": {
    "collapsed": false,
    "scrolled": true
   },
   "outputs": [
    {
     "data": {
      "text/html": [
       "<div>\n",
       "<table border=\"1\" class=\"dataframe\">\n",
       "  <thead>\n",
       "    <tr style=\"text-align: right;\">\n",
       "      <th></th>\n",
       "      <th>POI_ID</th>\n",
       "      <th>GEO_X</th>\n",
       "      <th>GEO_Y</th>\n",
       "    </tr>\n",
       "  </thead>\n",
       "  <tbody>\n",
       "    <tr>\n",
       "      <th>0</th>\n",
       "      <td>17305.0</td>\n",
       "      <td>650283.0</td>\n",
       "      <td>239145.0</td>\n",
       "    </tr>\n",
       "  </tbody>\n",
       "</table>\n",
       "</div>"
      ],
      "text/plain": [
       "    POI_ID     GEO_X     GEO_Y\n",
       "0  17305.0  650283.0  239145.0"
      ]
     },
     "execution_count": 4,
     "metadata": {},
     "output_type": "execute_result"
    }
   ],
   "source": [
    "poi = pd.read_csv(\"ecml_pkkd_2016_dataset/bank_info.csv\")\n",
    "poi.head(1)"
   ]
  },
  {
   "cell_type": "code",
   "execution_count": 5,
   "metadata": {
    "collapsed": false
   },
   "outputs": [
    {
     "data": {
      "text/plain": [
       "323"
      ]
     },
     "execution_count": 5,
     "metadata": {},
     "output_type": "execute_result"
    }
   ],
   "source": [
    "len(poi)"
   ]
  },
  {
   "cell_type": "code",
   "execution_count": 6,
   "metadata": {
    "collapsed": false
   },
   "outputs": [
    {
     "name": "stdout",
     "output_type": "stream",
     "text": [
      "Counter({'b': 104832, 'a': 58834, 'c': 26933, nan: 638})\n",
      "Counter({'b': 105470, 'a': 58834, 'c': 26933})\n"
     ]
    }
   ],
   "source": [
    "users_15 = pd.read_csv(\"ecml_pkkd_2016_dataset/users_2015.csv\", na_values=\"-\")\n",
    "train_15 = pd.read_csv(\"ecml_pkkd_2016_dataset/train_2015.csv\", na_values=\"-\")\n",
    "print Counter(users_15[\"AGE_CAT\"])\n",
    "users_15.loc[~users_15[\"AGE_CAT\"].isin([\"a\", \"b\", \"c\"]), \"AGE_CAT\"] = \"b\"\n",
    "print Counter(users_15[\"AGE_CAT\"])"
   ]
  },
  {
   "cell_type": "code",
   "execution_count": 7,
   "metadata": {
    "collapsed": false,
    "scrolled": false
   },
   "outputs": [
    {
     "data": {
      "text/plain": [
       "<matplotlib.collections.PathCollection at 0x64e0790>"
      ]
     },
     "execution_count": 7,
     "metadata": {},
     "output_type": "execute_result"
    },
    {
     "data": {
      "image/png": "[encoded data removed]",
      "text/plain": [
       "<matplotlib.figure.Figure at 0x2f73090>"
      ]
     },
     "metadata": {
      "image/png": {
       "height": 538,
       "width": 1087
      }
     },
     "output_type": "display_data"
    }
   ],
   "source": [
    "plt.scatter(poi[\"GEO_X\"], poi[\"GEO_Y\"])"
   ]
  },
  {
   "cell_type": "markdown",
   "metadata": {},
   "source": [
    "# Train model"
   ]
  },
  {
   "cell_type": "code",
   "execution_count": 8,
   "metadata": {
    "collapsed": false
   },
   "outputs": [
    {
     "data": {
      "text/html": [
       "<div>\n",
       "<table border=\"1\" class=\"dataframe\">\n",
       "  <thead>\n",
       "    <tr style=\"text-align: right;\">\n",
       "      <th></th>\n",
       "      <th>USER_ID</th>\n",
       "      <th>POI_ID</th>\n",
       "      <th>CHANNEL</th>\n",
       "      <th>DATE</th>\n",
       "      <th>TIME_CAT</th>\n",
       "      <th>LOC_CAT</th>\n",
       "      <th>MC_CAT</th>\n",
       "      <th>CARD_CAT</th>\n",
       "      <th>AMT_CAT</th>\n",
       "      <th>GEO_X</th>\n",
       "      <th>GEO_Y</th>\n",
       "    </tr>\n",
       "  </thead>\n",
       "  <tbody>\n",
       "    <tr>\n",
       "      <th>0</th>\n",
       "      <td>91498</td>\n",
       "      <td>28052</td>\n",
       "      <td>p</td>\n",
       "      <td>2014-01-01</td>\n",
       "      <td>a</td>\n",
       "      <td>b</td>\n",
       "      <td>b</td>\n",
       "      <td>d</td>\n",
       "      <td>b</td>\n",
       "      <td>605119.0</td>\n",
       "      <td>58997.8</td>\n",
       "    </tr>\n",
       "    <tr>\n",
       "      <th>1</th>\n",
       "      <td>266177</td>\n",
       "      <td>1759</td>\n",
       "      <td>n</td>\n",
       "      <td>2014-01-01</td>\n",
       "      <td>a</td>\n",
       "      <td>NaN</td>\n",
       "      <td>j</td>\n",
       "      <td>d</td>\n",
       "      <td>b</td>\n",
       "      <td>NaN</td>\n",
       "      <td>NaN</td>\n",
       "    </tr>\n",
       "    <tr>\n",
       "      <th>2</th>\n",
       "      <td>202438</td>\n",
       "      <td>897</td>\n",
       "      <td>p</td>\n",
       "      <td>2014-01-01</td>\n",
       "      <td>a</td>\n",
       "      <td>b</td>\n",
       "      <td>b</td>\n",
       "      <td>d</td>\n",
       "      <td>c</td>\n",
       "      <td>698820.0</td>\n",
       "      <td>174757.0</td>\n",
       "    </tr>\n",
       "    <tr>\n",
       "      <th>3</th>\n",
       "      <td>109668</td>\n",
       "      <td>19939</td>\n",
       "      <td>p</td>\n",
       "      <td>2014-01-01</td>\n",
       "      <td>a</td>\n",
       "      <td>b</td>\n",
       "      <td>b</td>\n",
       "      <td>d</td>\n",
       "      <td>b</td>\n",
       "      <td>716050.0</td>\n",
       "      <td>271521.0</td>\n",
       "    </tr>\n",
       "    <tr>\n",
       "      <th>4</th>\n",
       "      <td>218581</td>\n",
       "      <td>13992</td>\n",
       "      <td>p</td>\n",
       "      <td>2014-01-01</td>\n",
       "      <td>a</td>\n",
       "      <td>a</td>\n",
       "      <td>j</td>\n",
       "      <td>d</td>\n",
       "      <td>c</td>\n",
       "      <td>653242.0</td>\n",
       "      <td>239511.0</td>\n",
       "    </tr>\n",
       "  </tbody>\n",
       "</table>\n",
       "</div>"
      ],
      "text/plain": [
       "   USER_ID  POI_ID CHANNEL        DATE TIME_CAT LOC_CAT MC_CAT CARD_CAT  \\\n",
       "0    91498   28052       p  2014-01-01        a       b      b        d   \n",
       "1   266177    1759       n  2014-01-01        a     NaN      j        d   \n",
       "2   202438     897       p  2014-01-01        a       b      b        d   \n",
       "3   109668   19939       p  2014-01-01        a       b      b        d   \n",
       "4   218581   13992       p  2014-01-01        a       a      j        d   \n",
       "\n",
       "  AMT_CAT     GEO_X     GEO_Y  \n",
       "0       b  605119.0   58997.8  \n",
       "1       b       NaN       NaN  \n",
       "2       c  698820.0  174757.0  \n",
       "3       b  716050.0  271521.0  \n",
       "4       c  653242.0  239511.0  "
      ]
     },
     "execution_count": 8,
     "metadata": {},
     "output_type": "execute_result"
    }
   ],
   "source": [
    "train_14.head()"
   ]
  },
  {
   "cell_type": "code",
   "execution_count": 9,
   "metadata": {
    "collapsed": false,
    "scrolled": true
   },
   "outputs": [
    {
     "data": {
      "text/plain": [
       "23199"
      ]
     },
     "execution_count": 9,
     "metadata": {},
     "output_type": "execute_result"
    }
   ],
   "source": [
    "# poi to bank pois distance\n",
    "poi_to_idx = {k: v for v, k in enumerate(sorted(poi[\"POI_ID\"]))}\n",
    "poi2 = poi.copy()\n",
    "poi2[\"POI_ID\"] = poi2[\"POI_ID\"].apply(poi_to_idx.get)\n",
    "poi2 = poi2.sort_values(\"POI_ID\")\n",
    "poi2 = poi2[[\"GEO_X\", \"GEO_Y\"]].as_matrix()\n",
    "\n",
    "p_pois = pd.concat((\n",
    "        train_14[train_14[\"CHANNEL\"] == \"p\"][[\"POI_ID\", \"GEO_X\", \"GEO_Y\"]].drop_duplicates(),\n",
    "        train_15[train_15[\"CHANNEL\"] == \"p\"][[\"POI_ID\", \"GEO_X\", \"GEO_Y\"]].drop_duplicates()\n",
    "    )).drop_duplicates()\n",
    "p_pois_to_bank = dict(zip(p_pois.as_matrix()[:, 0], \n",
    "                     map(lambda x: np.argmin(np.linalg.norm(poi2 - x, axis=1)), p_pois.as_matrix()[:, 1:])\n",
    "                 ))\n",
    "len(p_pois_to_bank)"
   ]
  },
  {
   "cell_type": "code",
   "execution_count": 10,
   "metadata": {
    "collapsed": false
   },
   "outputs": [],
   "source": [
    "def user_row_to_feat(row):\n",
    "    \n",
    "    def poi_distances_for_xy(x, y):\n",
    "        return np.linalg.norm(poi2 - [x, y], axis=1)\n",
    "    \n",
    "    f = {}\n",
    "    for k, v in dict(row).iteritems():\n",
    "        if k in [\"AGE_CAT\", \"LOC_CAT\", \"INC_CAT\", \"GEN\", \"LOC_GEO_X\", \"LOC_GEO_Y\"]:\n",
    "            f[k] = v\n",
    "        if k[:3] in (\"C20\", \"W20\"):\n",
    "            f[k[0] + k[-2:]] = v\n",
    "    # make user features\n",
    "    user_res = []\n",
    "    user_res.extend(list(poi_distances_for_xy(f[\"LOC_GEO_X\"], f[\"LOC_GEO_Y\"])))\n",
    "    \n",
    "    # take C** and W** for months from utm\n",
    "    tmpC = [0] * 6\n",
    "    tmpW = [0] * 6\n",
    "    for idx, m in enumerate(row[\"utm\"][::-1]):\n",
    "        m = m.split(\".\")[1]\n",
    "        tmpC[-(idx + 1)] = f[\"C\" + m]\n",
    "        tmpW[-(idx + 1)] = f[\"W\" + m]\n",
    "    user_res.extend(tmpC + tmpW)\n",
    "    user_res.append(f[\"GEN\"])\n",
    "    user_res.extend(list((np.array([\"a\", \"b\", \"c\"]) == f[\"AGE_CAT\"]).astype(int)))\n",
    "    user_res.extend(list((np.array([\"a\", \"b\", \"c\", \"d\"]) == f[\"INC_CAT\"]).astype(int)))\n",
    "    user_res.extend(list((np.array([\"a\", \"b\", \"c\"]) == f[\"LOC_CAT\"]).astype(int)))\n",
    "    return np.array([row[\"USER_ID\"]] + user_res)\n",
    "    \n",
    "def users_to_features(users):\n",
    "    res = parallel_apply_to_rows(\n",
    "        users,\n",
    "        user_row_to_feat,\n",
    "        n_jobs=32\n",
    "    )\n",
    "    \n",
    "    return {row[0]: row[1:] for row in res}\n",
    "\n",
    "def user_trans_to_features(user_trans):\n",
    "    \n",
    "    def list_to_dict(lst):\n",
    "        return {k: v for v, k in enumerate(lst)}\n",
    "\n",
    "    fields_to_vals = {\n",
    "        \"TIME_CAT\": [\"a\", \"b\", \"c\", \"\"],\n",
    "        \"LOC_CAT\": [\"a\", \"b\", \"c\", \"\"],\n",
    "        \"MC_CAT\": [\"a\", \"b\", \"c\", \"d\", \"e\", \"f\", \"g\", \"h\", \"i\", \"j\", \"\"],\n",
    "        \"CARD_CAT\": [\"c\", \"d\", \"\"],\n",
    "        \"AMT_CAT\": [\"a\", \"b\", \"c\", \"\"],\n",
    "    }\n",
    "    combs = [\n",
    "        [\"TIME_CAT\"],\n",
    "        [\"LOC_CAT\"],\n",
    "        [\"MC_CAT\"],\n",
    "        [\"CARD_CAT\"],\n",
    "        [\"AMT_CAT\"],\n",
    "        [\"MC_CAT\", \"AMT_CAT\"],\n",
    "        [\"LOC_CAT\", \"MC_CAT\"],\n",
    "        [\"TIME_CAT\", \"LOC_CAT\", \"AMT_CAT\"],\n",
    "        [\"CARD_CAT\", \"AMT_CAT\"],\n",
    "        [\"MC_CAT\", \"CARD_CAT\", \"AMT_CAT\"],\n",
    "    ]\n",
    "    combs_values_to_idx = []\n",
    "    for comb in combs:\n",
    "        combs_values_to_idx.append(list_to_dict(list(itertools.product(\n",
    "                        *[fields_to_vals[feat] for feat in comb]))))\n",
    "    res = []\n",
    "    for comb, comb_vals in zip(combs, combs_values_to_idx):\n",
    "        data = np.zeros((len(comb_vals),))\n",
    "        for (_, row) in user_trans.iterrows():\n",
    "            data[comb_vals[tuple(\"\" if pd.isnull(row[f]) else row[f] for f in comb)]] = 1\n",
    "        res.append(data)\n",
    "\n",
    "    # transactions near bank poi\n",
    "    data = np.zeros((len(poi),))\n",
    "    for (_, row) in user_trans.iterrows():\n",
    "        if row[\"CHANNEL\"] == \"p\":\n",
    "            data[p_pois_to_bank[row[\"POI_ID\"]]] += 1\n",
    "    res.append(data)\n",
    "            \n",
    "    return np.hstack(res)\n",
    "\n",
    "def trans_to_users_features(transactions):\n",
    "    return dict(\n",
    "        parallel_groupby_and_apply(\n",
    "            transactions[transactions[\"CHANNEL\"].isin([\"p\", \"n\"])],\n",
    "            \"USER_ID\",\n",
    "            user_trans_to_features,\n",
    "            n_jobs=32\n",
    "        )\n",
    "    )\n",
    "\n",
    "def make_features(users, transactions, utm, target=None):\n",
    "    # only for users in utm for respective months\n",
    "    dates_df = []\n",
    "    for uid, ms in utm.iteritems():\n",
    "        start_y, start_m = ms[0].split(\".\")\n",
    "        stop_y, stop_m = ms[-1].split(\".\")\n",
    "        dates_df.append([uid, \"{0}-{1}-01\".format(start_y, start_m),\"{0}-{1}-31\".format(stop_y, stop_m)])\n",
    "    dates_df = pd.DataFrame(dates_df, columns=[\"USER_ID\", \"start_date\", \"end_date\"])\n",
    "    transactions = transactions.merge(dates_df)\n",
    "    transactions = transactions[(transactions[\"DATE\"] >= transactions[\"start_date\"]) &\n",
    "                                (transactions[\"DATE\"] <= transactions[\"end_date\"])]\n",
    "\n",
    "    utm_df = pd.DataFrame(list(utm.iteritems()), columns=[\"USER_ID\", \"utm\"])\n",
    "    users = users.merge(utm_df)\n",
    "    \n",
    "    users_f = users_to_features(users)\n",
    "    trans_f = trans_to_users_features(transactions)\n",
    "    \n",
    "    X = []\n",
    "    Y = []\n",
    "    if target is not None:\n",
    "        for uid in sorted(target.iterkeys()):\n",
    "            X.append(np.hstack((\n",
    "                        users_f[uid],\n",
    "                        trans_f.get(uid, [0] * len(trans_f.itervalues().next())))\n",
    "            ))\n",
    "            Y.append(target[uid])\n",
    "    else:\n",
    "        for uid in sorted(users[\"USER_ID\"]):\n",
    "            X.append(np.hstack((\n",
    "                        users_f[uid],\n",
    "                        trans_f.get(uid, [0] * len(trans_f.itervalues().next())))\n",
    "            ))\n",
    "    \n",
    "    X = np.array(X)\n",
    "    Y = pd.DataFrame(Y).fillna(0).as_matrix()\n",
    "    \n",
    "    return X, Y\n",
    "\n",
    "def make_target(transactions):\n",
    "    TRAIN_SPLIT_DATE = '2014-06-30'\n",
    "    \n",
    "    df = transactions[transactions[\"DATE\"] > TRAIN_SPLIT_DATE]\n",
    "    \n",
    "    df = df[df[\"CHANNEL\"] == \"b\"]\n",
    "    target = defaultdict(lambda: defaultdict(int))\n",
    "    for (_, row) in df.iterrows():\n",
    "        target[row[\"USER_ID\"]][poi_to_idx[row[\"POI_ID\"]]] += 1\n",
    "    return target"
   ]
  },
  {
   "cell_type": "code",
   "execution_count": 11,
   "metadata": {
    "collapsed": false
   },
   "outputs": [
    {
     "name": "stdout",
     "output_type": "stream",
     "text": [
      "CPU times: user 1min 21s, sys: 9.12 s, total: 1min 30s\n",
      "Wall time: 7min 24s\n"
     ]
    }
   ],
   "source": [
    "%%time\n",
    "target = make_target(train_14)\n",
    "\n",
    "utm = {}\n",
    "for uid in users_14[\"USER_ID\"]:\n",
    "    utm[uid] = [\"2014.01\", \"2014.02\", \"2014.03\", \"2014.04\", \"2014.05\", \"2014.06\"]\n",
    "\n",
    "XX, YY = make_features(users_14, train_14, utm, target)"
   ]
  },
  {
   "cell_type": "code",
   "execution_count": 13,
   "metadata": {
    "collapsed": false
   },
   "outputs": [
    {
     "name": "stdout",
     "output_type": "stream",
     "text": [
      "(98994, 991) (98994, 323)\n"
     ]
    }
   ],
   "source": [
    "best_poi = np.argmax(YY, axis=1)\n",
    "XX = np.concatenate((XX, XX[best_poi == 243])) # only one object\n",
    "YY = np.concatenate((YY, YY[best_poi == 243]))\n",
    "print XX.shape, YY.shape"
   ]
  },
  {
   "cell_type": "code",
   "execution_count": 14,
   "metadata": {
    "collapsed": false
   },
   "outputs": [],
   "source": [
    "XX_1, XX_2, YY_1, YY_2 = train_test_split(XX, YY, test_size=0.10, random_state=42, stratify=np.argmax(YY, axis=1))"
   ]
  },
  {
   "cell_type": "code",
   "execution_count": 15,
   "metadata": {
    "collapsed": true
   },
   "outputs": [],
   "source": [
    "def eval_metric(y_true, y_pred):\n",
    "    \"\"\"\n",
    "    y_true, y_pred: matrix users x pois with counts\n",
    "    \"\"\"\n",
    "    scores = []\n",
    "    for r_true, r_pred in zip(y_true, y_pred):\n",
    "        r_true /= np.linalg.norm(r_true)\n",
    "        sorted_idx = np.argsort(r_pred)[::-1]\n",
    "        cosine_1 = r_true[sorted_idx[0]]\n",
    "        pred_5_normalized = r_pred[sorted_idx[:5]]\n",
    "        pred_5_normalized /= np.linalg.norm(pred_5_normalized)\n",
    "        cosine_5 = np.dot(r_true[sorted_idx[:5]], pred_5_normalized)\n",
    "        scores.append((cosine_1 + cosine_5) / 2.0)\n",
    "    return np.mean(scores)"
   ]
  },
  {
   "cell_type": "code",
   "execution_count": 16,
   "metadata": {
    "collapsed": false
   },
   "outputs": [
    {
     "name": "stdout",
     "output_type": "stream",
     "text": [
      "0.577780375194\n"
     ]
    }
   ],
   "source": [
    "# Baseline (output closest pois with same values distribution as in target)\n",
    "closest = np.argsort(-YY_1, axis=1)[:, :5]\n",
    "thr = []\n",
    "for idx in range(YY_1.shape[0]):\n",
    "    thr.append(YY_1[idx][closest[idx]])\n",
    "thr = np.mean(thr, axis=0)\n",
    "\n",
    "closest = np.argsort(XX_2[:, :323], axis=1)[:, :5]\n",
    "pred = np.zeros_like(YY_2)\n",
    "\n",
    "for idx in range(YY_2.shape[0]):\n",
    "    pred[idx][closest[idx]] = thr\n",
    "print eval_metric(YY_2, pred)"
   ]
  },
  {
   "cell_type": "code",
   "execution_count": null,
   "metadata": {
    "collapsed": false,
    "scrolled": true
   },
   "outputs": [
    {
     "name": "stdout",
     "output_type": "stream",
     "text": [
      "0 done\n",
      "1 done\n",
      "2 done\n",
      "3 done\n",
      "4 done\n",
      "5 done\n",
      "6 done\n",
      "7 done\n",
      "8 done\n",
      "9 done\n",
      "10 done\n",
      "11 done\n",
      "12 done\n",
      "13 done\n",
      "14 done\n",
      "15 done\n",
      "16 done\n",
      "17 done\n",
      "18 done\n",
      "19 done\n",
      "20 done\n",
      "21 done\n",
      "22 done\n",
      "23 done\n",
      "24 done\n",
      "25 done\n",
      "26 done\n",
      "27 done\n",
      "28 done\n",
      "29 done\n",
      "30 done\n",
      "31 done\n",
      "32 done\n",
      "33 done\n",
      "34 done\n",
      "35 done\n",
      "36 done\n",
      "37 done\n",
      "38 done\n",
      "39 done\n",
      "40 done\n",
      "41 done\n",
      "42 done\n",
      "43 done\n",
      "44 done\n",
      "45 done\n",
      "46 done\n",
      "47 done\n",
      "48 done\n",
      "49 done\n",
      "50 done\n",
      "51 done\n",
      "52 done\n",
      "53 done\n",
      "54 done\n",
      "55 done\n",
      "56 done\n",
      "57 done\n",
      "58 done\n",
      "59 done\n",
      "60 done\n",
      "61 done\n",
      "62 done\n",
      "63 done\n",
      "64 done\n",
      "65 done\n",
      "66 done\n",
      "67 done\n",
      "68 done\n",
      "69 done\n",
      "70 done\n",
      "71 done\n",
      "72 done\n",
      "73 done\n",
      "74 done\n",
      "75 done\n",
      "76 done\n",
      "77 done\n",
      "78 done\n",
      "79 done\n",
      "80 done\n",
      "81 done\n",
      "82 done\n",
      "83 done\n",
      "84 done\n",
      "85 done\n",
      "86 done\n",
      "87 done\n",
      "88 done\n",
      "89 done\n",
      "90 done\n",
      "91 done\n",
      "92 done\n",
      "93 done\n",
      "94 done\n",
      "95 done\n",
      "96 done\n",
      "97 done\n",
      "98 done\n",
      "99 done\n",
      "100 done\n",
      "101 done\n",
      "102 done\n",
      "103 done\n",
      "104 done\n",
      "105 done\n",
      "106 done\n",
      "107 done\n",
      "108 done\n",
      "109 done\n",
      "110 done\n",
      "111 done\n",
      "112 done\n",
      "113 done\n",
      "114 done\n",
      "115 done\n",
      "116 done\n",
      "117 done\n",
      "118 done\n",
      "119 done\n",
      "120 done\n",
      "121 done\n",
      "122 done\n",
      "123 done\n",
      "124 done\n",
      "125 done\n",
      "126 done\n",
      "127 done\n",
      "128 done\n",
      "129 done\n",
      "130 done\n",
      "131 done\n",
      "132 done\n",
      "133 done\n",
      "134 done\n",
      "135 done\n",
      "136 done\n",
      "137 done\n",
      "138 done\n",
      "139 done\n",
      "140 done\n",
      "141 done\n",
      "142 done\n",
      "143 done\n",
      "144 done\n",
      "145 done\n",
      "146 done\n",
      "147 done\n",
      "148 done\n",
      "149 done\n",
      "150 done\n",
      "151 done\n",
      "152 done\n",
      "153 done\n",
      "154 done\n",
      "155 done\n",
      "156 done\n",
      "157 done\n",
      "158 done\n",
      "159 done\n",
      "160 done\n",
      "161 done\n",
      "162 done\n",
      "163 done\n",
      "164 done\n",
      "165 done\n",
      "166 done\n",
      "167 done\n",
      "168 done\n",
      "169 done\n",
      "170 done\n",
      "301 done\n",
      "302 done\n",
      "303 done\n",
      "304 done\n",
      "305 done\n",
      "306 done\n",
      "307 done\n",
      "308 done\n",
      "309 done\n",
      "310 done\n",
      "311 done\n",
      "312 done\n",
      "313 done\n",
      "314 done\n",
      "315 done\n",
      "316 done\n",
      "317 done\n",
      "318 done\n",
      "319 done\n",
      "320 done\n",
      "321 done\n",
      "322 done\n",
      "CPU times: user 2d 4h 4min 42s, sys: 10min 49s, total: 2d 4h 15min 32s\n",
      "Wall time: 3h 32s\n"
     ]
    }
   ],
   "source": [
    "%%time\n",
    "classifier_per_class = []\n",
    "for class_idx in range(YY.shape[1]):\n",
    "    clf = xgb.XGBClassifier(n_estimators=75)\n",
    "    y = (YY_1[:, class_idx] > 0).astype(int)\n",
    "    clf.fit(XX_1, y)\n",
    "    classifier_per_class.append(clf)\n",
    "    print class_idx, \"done\""
   ]
  },
  {
   "cell_type": "code",
   "execution_count": 19,
   "metadata": {
    "collapsed": true
   },
   "outputs": [],
   "source": [
    "np.save(\"classifier_per_class.npy\", classifier_per_class)\n",
    "classifier_per_class = np.load(\"classifier_per_class.npy\")"
   ]
  },
  {
   "cell_type": "code",
   "execution_count": 20,
   "metadata": {
    "collapsed": true
   },
   "outputs": [],
   "source": [
    "# predict probas for train and test\n",
    "def predict_proba_for_clf(clf, x):\n",
    "    return clf.predict_proba(x)[:, 1]\n",
    "\n",
    "pred_first_proba_tr = Parallel(n_jobs=32, backend=\"threading\")(\n",
    "    delayed(predict_proba_for_clf)(clf, XX_1)\n",
    "    for clf in classifier_per_class\n",
    ")\n",
    "pred_first_proba_tr = np.vstack(pred_first_proba_tr).T\n",
    "\n",
    "pred_first_proba = Parallel(n_jobs=32, backend=\"threading\")(\n",
    "    delayed(predict_proba_for_clf)(clf, XX_2)\n",
    "    for clf in classifier_per_class\n",
    ")\n",
    "pred_first_proba = np.vstack(pred_first_proba).T"
   ]
  },
  {
   "cell_type": "code",
   "execution_count": 23,
   "metadata": {
    "collapsed": false
   },
   "outputs": [
    {
     "name": "stdout",
     "output_type": "stream",
     "text": [
      "0.682123092701\n"
     ]
    }
   ],
   "source": [
    "# evaluate on test\n",
    "pred2 = pred_first_proba.copy()\n",
    "closest = np.argsort(-pred2, axis=1)[:, :5]\n",
    "pred3 = np.zeros_like(YY_2)\n",
    "for idx in range(YY_2.shape[0]):\n",
    "    vals = pred2[idx][closest[idx]]\n",
    "    pred3[idx][closest[idx]] = vals\n",
    "print eval_metric(YY_2, pred3)\n",
    "\n",
    "# 0.679382259127 -> 0.6818\n",
    "# 0.680437368829 -> 0.6843\n",
    "# 0.682123092701 -> 0.6849\n",
    "# 0.683509285526 -> 0.6851"
   ]
  },
  {
   "cell_type": "code",
   "execution_count": 137,
   "metadata": {
    "collapsed": false
   },
   "outputs": [
    {
     "data": {
      "text/plain": [
       "0.683509285526404"
      ]
     },
     "execution_count": 137,
     "metadata": {},
     "output_type": "execute_result"
    }
   ],
   "source": [
    "# hack (boost pois based on top 1 distribution in train)\n",
    "pred_first_proba2 = pred_first_proba.copy()\n",
    "cnt = Counter(np.argmax(YY_1, axis=1))\n",
    "cnt = {k: v / float(len(YY_1)) for k, v in cnt.items()}\n",
    "for poi_idx, rat in cnt.iteritems():\n",
    "    t = np.sort(pred_first_proba[:, poi_idx])[::-1][int(rat * len(YY_2))]\n",
    "    pred_first_proba2[pred_first_proba[:, poi_idx] > t * 1.5, poi_idx] *= 1.5\n",
    "eval_metric(YY_2, pred_first_proba2)"
   ]
  },
  {
   "cell_type": "markdown",
   "metadata": {},
   "source": [
    "# Submission"
   ]
  },
  {
   "cell_type": "code",
   "execution_count": 34,
   "metadata": {
    "collapsed": false
   },
   "outputs": [
    {
     "name": "stdout",
     "output_type": "stream",
     "text": [
      "CPU times: user 43.7 s, sys: 15.4 s, total: 59.1 s\n",
      "Wall time: 7min 41s\n"
     ]
    }
   ],
   "source": [
    "%%time\n",
    "utm = {}\n",
    "for uid in users_15[\"USER_ID\"]:\n",
    "    utm[uid] = [\"2015.01\", \"2015.02\", \"2015.03\", \"2015.04\", \"2015.05\", \"2015.06\"]\n",
    "XXX, _ = make_features(users_15, train_15, utm)"
   ]
  },
  {
   "cell_type": "code",
   "execution_count": 83,
   "metadata": {
    "collapsed": true
   },
   "outputs": [],
   "source": [
    "def predict_proba_for_clf(clf, x):\n",
    "    return clf.predict_proba(x)[:, 1]\n",
    "pred_first_proba_te = Parallel(n_jobs=32, backend=\"threading\")(\n",
    "    delayed(predict_proba_for_clf)(clf, XXX)\n",
    "    for clf in classifier_per_class\n",
    ")\n",
    "pred_first_proba_te = np.vstack(pred_first_proba_te).T"
   ]
  },
  {
   "cell_type": "code",
   "execution_count": 150,
   "metadata": {
    "collapsed": true
   },
   "outputs": [],
   "source": [
    "pred_first_proba2 = pred_first_proba_te.copy()\n",
    "cnt = Counter(np.argmax(YY_1, axis=1))\n",
    "cnt = {k: v / float(len(YY_1)) for k, v in cnt.items()}\n",
    "for poi_idx, rat in cnt.iteritems():\n",
    "    t = np.sort(pred_first_proba_te[:, poi_idx])[::-1][int(rat * len(XXX))]\n",
    "    pred_first_proba2[pred_first_proba_te[:, poi_idx] > t * 1.5, poi_idx] *= 1.5"
   ]
  },
  {
   "cell_type": "code",
   "execution_count": 151,
   "metadata": {
    "collapsed": true
   },
   "outputs": [],
   "source": [
    "pred2 = pred_first_proba2.copy()\n",
    "closest = np.argsort(-pred2, axis=1)[:, :5]\n",
    "bla_pred = []\n",
    "for idx in range(XXX.shape[0]):\n",
    "    bla_pred.append(pred2[idx, closest[idx]])\n",
    "bla_pred = np.vstack(bla_pred)"
   ]
  },
  {
   "cell_type": "code",
   "execution_count": 152,
   "metadata": {
    "collapsed": false
   },
   "outputs": [],
   "source": [
    "idx_to_poi = {v: k for v, k in enumerate(sorted(poi[\"POI_ID\"]))}\n",
    "\n",
    "with open(\"submission.csv\", \"w\") as f:\n",
    "    f.write(\"#USER_ID,POI_ID,NUMBER_OF_VISITS\\n\")\n",
    "    for uid, idxs, vals in zip(sorted(users_15[\"USER_ID\"]), closest, bla_pred):\n",
    "        f.write(\"\\n\".join(\"{0},{1},{2}\".format(uid, int(idx_to_poi[i]), w) for i, w in zip(idxs, vals)) + \"\\n\")"
   ]
  },
  {
   "cell_type": "code",
   "execution_count": 154,
   "metadata": {
    "collapsed": false
   },
   "outputs": [
    {
     "name": "stdout",
     "output_type": "stream",
     "text": [
      "#USER_ID,POI_ID,NUMBER_OF_VISITS\r\n",
      "1,22537,0.804153621197\r\n",
      "1,395,0.193244621158\r\n",
      "1,8068,0.0168208219111\r\n",
      "1,17563,0.00891651026905\r\n",
      "1,17763,0.00818252470344\r\n",
      "2,28442,1.35502851009\r\n",
      "2,8716,0.0365627631545\r\n",
      "2,16688,0.0146398488432\r\n",
      "2,22467,0.0103691983968\r\n"
     ]
    }
   ],
   "source": [
    "! head submission.csv"
   ]
  }
 ],
 "metadata": {
  "kernelspec": {
   "display_name": "Python 2",
   "language": "python",
   "name": "python2"
  },
  "language_info": {
   "codemirror_mode": {
    "name": "ipython",
    "version": 2
   },
   "file_extension": ".py",
   "mimetype": "text/x-python",
   "name": "python",
   "nbconvert_exporter": "python",
   "pygments_lexer": "ipython2",
   "version": "2.7.3"
  }
 },
 "nbformat": 4,
 "nbformat_minor": 0
}
