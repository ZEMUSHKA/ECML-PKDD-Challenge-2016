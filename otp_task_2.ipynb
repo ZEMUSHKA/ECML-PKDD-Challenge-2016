{
 "cells": [
  {
   "cell_type": "code",
   "execution_count": 1,
   "metadata": {
    "collapsed": false
   },
   "outputs": [],
   "source": [
    "import sklearn\n",
    "from sklearn.cross_validation import train_test_split\n",
    "from sklearn.preprocessing import StandardScaler\n",
    "from sklearn.grid_search import GridSearchCV\n",
    "from sklearn.metrics import roc_auc_score\n",
    "from sklearn.linear_model import LogisticRegressionCV, LogisticRegression\n",
    "from sklearn.preprocessing import StandardScaler\n",
    "\n",
    "import numpy as np\n",
    "from joblib import Parallel, delayed\n",
    "from collections import defaultdict, Counter\n",
    "import itertools\n",
    "import xgboost as xgb\n",
    "\n",
    "from utils import parallel_groupby_and_apply, parallel_apply_to_rows, \\\n",
    "    save_pickle, read_pickle\n",
    "\n",
    "import pandas as pd\n",
    "pd.set_option('display.max_rows', 500)\n",
    "\n",
    "import matplotlib\n",
    "import matplotlib.pyplot as plt\n",
    "%matplotlib inline\n",
    "%config IPCompleter.greedy = True\n",
    "%config InlineBackend.figure_formats=['retina']\n",
    "plt.rcParams['figure.figsize'] = 18, 9\n",
    "plt.style.use('ggplot')\n",
    "from IPython.display import Image, display"
   ]
  },
  {
   "cell_type": "markdown",
   "metadata": {},
   "source": [
    "# Read Data"
   ]
  },
  {
   "cell_type": "code",
   "execution_count": 2,
   "metadata": {
    "collapsed": false
   },
   "outputs": [
    {
     "data": {
      "text/html": [
       "<div>\n",
       "<table border=\"1\" class=\"dataframe\">\n",
       "  <thead>\n",
       "    <tr style=\"text-align: right;\">\n",
       "      <th></th>\n",
       "      <th>USER_ID</th>\n",
       "      <th>AGE_CAT</th>\n",
       "      <th>LOC_CAT</th>\n",
       "      <th>INC_CAT</th>\n",
       "      <th>GEN</th>\n",
       "      <th>LOC_GEO_X</th>\n",
       "      <th>LOC_GEO_Y</th>\n",
       "      <th>TARGET_TASK_2</th>\n",
       "      <th>C201401</th>\n",
       "      <th>C201402</th>\n",
       "      <th>...</th>\n",
       "      <th>W201403</th>\n",
       "      <th>W201404</th>\n",
       "      <th>W201405</th>\n",
       "      <th>W201406</th>\n",
       "      <th>W201407</th>\n",
       "      <th>W201408</th>\n",
       "      <th>W201409</th>\n",
       "      <th>W201410</th>\n",
       "      <th>W201411</th>\n",
       "      <th>W201412</th>\n",
       "    </tr>\n",
       "  </thead>\n",
       "  <tbody>\n",
       "    <tr>\n",
       "      <th>0</th>\n",
       "      <td>30277</td>\n",
       "      <td>a</td>\n",
       "      <td>c</td>\n",
       "      <td>b</td>\n",
       "      <td>0</td>\n",
       "      <td>857400</td>\n",
       "      <td>334900</td>\n",
       "      <td>2014.04.30</td>\n",
       "      <td>0</td>\n",
       "      <td>0</td>\n",
       "      <td>...</td>\n",
       "      <td>0</td>\n",
       "      <td>0</td>\n",
       "      <td>0</td>\n",
       "      <td>0</td>\n",
       "      <td>0</td>\n",
       "      <td>0</td>\n",
       "      <td>0</td>\n",
       "      <td>0</td>\n",
       "      <td>0</td>\n",
       "      <td>0</td>\n",
       "    </tr>\n",
       "  </tbody>\n",
       "</table>\n",
       "<p>1 rows × 32 columns</p>\n",
       "</div>"
      ],
      "text/plain": [
       "   USER_ID AGE_CAT LOC_CAT INC_CAT  GEN  LOC_GEO_X  LOC_GEO_Y TARGET_TASK_2  \\\n",
       "0    30277       a       c       b    0     857400     334900    2014.04.30   \n",
       "\n",
       "   C201401  C201402   ...     W201403  W201404  W201405  W201406  W201407  \\\n",
       "0        0        0   ...           0        0        0        0        0   \n",
       "\n",
       "   W201408  W201409  W201410  W201411  W201412  \n",
       "0        0        0        0        0        0  \n",
       "\n",
       "[1 rows x 32 columns]"
      ]
     },
     "execution_count": 2,
     "metadata": {},
     "output_type": "execute_result"
    }
   ],
   "source": [
    "users_14 = pd.read_csv(\"ecml_pkkd_2016_dataset/users_2014.csv\", na_values=\"-\")\n",
    "users_14.head(1)"
   ]
  },
  {
   "cell_type": "code",
   "execution_count": 3,
   "metadata": {
    "collapsed": false
   },
   "outputs": [
    {
     "data": {
      "text/html": [
       "<div>\n",
       "<table border=\"1\" class=\"dataframe\">\n",
       "  <thead>\n",
       "    <tr style=\"text-align: right;\">\n",
       "      <th></th>\n",
       "      <th>USER_ID</th>\n",
       "      <th>POI_ID</th>\n",
       "      <th>CHANNEL</th>\n",
       "      <th>DATE</th>\n",
       "      <th>TIME_CAT</th>\n",
       "      <th>LOC_CAT</th>\n",
       "      <th>MC_CAT</th>\n",
       "      <th>CARD_CAT</th>\n",
       "      <th>AMT_CAT</th>\n",
       "      <th>GEO_X</th>\n",
       "      <th>GEO_Y</th>\n",
       "    </tr>\n",
       "  </thead>\n",
       "  <tbody>\n",
       "    <tr>\n",
       "      <th>0</th>\n",
       "      <td>91498</td>\n",
       "      <td>28052</td>\n",
       "      <td>p</td>\n",
       "      <td>2014-01-01</td>\n",
       "      <td>a</td>\n",
       "      <td>b</td>\n",
       "      <td>b</td>\n",
       "      <td>d</td>\n",
       "      <td>b</td>\n",
       "      <td>605119.0</td>\n",
       "      <td>58997.8</td>\n",
       "    </tr>\n",
       "  </tbody>\n",
       "</table>\n",
       "</div>"
      ],
      "text/plain": [
       "   USER_ID  POI_ID CHANNEL        DATE TIME_CAT LOC_CAT MC_CAT CARD_CAT  \\\n",
       "0    91498   28052       p  2014-01-01        a       b      b        d   \n",
       "\n",
       "  AMT_CAT     GEO_X    GEO_Y  \n",
       "0       b  605119.0  58997.8  "
      ]
     },
     "execution_count": 3,
     "metadata": {},
     "output_type": "execute_result"
    }
   ],
   "source": [
    "train_14 = pd.read_csv(\"ecml_pkkd_2016_dataset/train_2014.csv\", na_values=\"-\")\n",
    "train_14.head(1)"
   ]
  },
  {
   "cell_type": "code",
   "execution_count": 4,
   "metadata": {
    "collapsed": false,
    "scrolled": true
   },
   "outputs": [
    {
     "data": {
      "text/html": [
       "<div>\n",
       "<table border=\"1\" class=\"dataframe\">\n",
       "  <thead>\n",
       "    <tr style=\"text-align: right;\">\n",
       "      <th></th>\n",
       "      <th>POI_ID</th>\n",
       "      <th>GEO_X</th>\n",
       "      <th>GEO_Y</th>\n",
       "    </tr>\n",
       "  </thead>\n",
       "  <tbody>\n",
       "    <tr>\n",
       "      <th>0</th>\n",
       "      <td>17305.0</td>\n",
       "      <td>650283.0</td>\n",
       "      <td>239145.0</td>\n",
       "    </tr>\n",
       "  </tbody>\n",
       "</table>\n",
       "</div>"
      ],
      "text/plain": [
       "    POI_ID     GEO_X     GEO_Y\n",
       "0  17305.0  650283.0  239145.0"
      ]
     },
     "execution_count": 4,
     "metadata": {},
     "output_type": "execute_result"
    }
   ],
   "source": [
    "poi = pd.read_csv(\"ecml_pkkd_2016_dataset/bank_info.csv\")\n",
    "poi.head(1)"
   ]
  },
  {
   "cell_type": "code",
   "execution_count": 5,
   "metadata": {
    "collapsed": false
   },
   "outputs": [
    {
     "name": "stdout",
     "output_type": "stream",
     "text": [
      "Counter({'b': 104832, 'a': 58834, 'c': 26933, nan: 638})\n",
      "Counter({'b': 105470, 'a': 58834, 'c': 26933})\n"
     ]
    }
   ],
   "source": [
    "users_15 = pd.read_csv(\"ecml_pkkd_2016_dataset/users_2015.csv\", na_values=\"-\")\n",
    "train_15 = pd.read_csv(\"ecml_pkkd_2016_dataset/train_2015.csv\", na_values=\"-\")\n",
    "print Counter(users_15[\"AGE_CAT\"])\n",
    "users_15.loc[~users_15[\"AGE_CAT\"].isin([\"a\", \"b\", \"c\"]), \"AGE_CAT\"] = \"b\"\n",
    "print Counter(users_15[\"AGE_CAT\"])"
   ]
  },
  {
   "cell_type": "code",
   "execution_count": 6,
   "metadata": {
    "collapsed": false,
    "scrolled": false
   },
   "outputs": [
    {
     "data": {
      "text/plain": [
       "<matplotlib.collections.PathCollection at 0x1dfdd7d0>"
      ]
     },
     "execution_count": 6,
     "metadata": {},
     "output_type": "execute_result"
    },
    {
     "data": {
      "image/png": "[encoded data removed]",
      "text/plain": [
       "<matplotlib.figure.Figure at 0x34a3810>"
      ]
     },
     "metadata": {
      "image/png": {
       "height": 538,
       "width": 1087
      }
     },
     "output_type": "display_data"
    }
   ],
   "source": [
    "plt.scatter(poi[\"GEO_X\"], poi[\"GEO_Y\"])"
   ]
  },
  {
   "cell_type": "code",
   "execution_count": 7,
   "metadata": {
    "collapsed": false
   },
   "outputs": [
    {
     "name": "stdout",
     "output_type": "stream",
     "text": [
      "653741.288883\n",
      "239086.097913\n"
     ]
    }
   ],
   "source": [
    "# capital GEO\n",
    "print np.mean(users_14[users_14[\"LOC_CAT\"] == \"a\"][\"LOC_GEO_X\"])\n",
    "print np.mean(users_14[users_14[\"LOC_CAT\"] == \"a\"][\"LOC_GEO_Y\"])"
   ]
  },
  {
   "cell_type": "markdown",
   "metadata": {},
   "source": [
    "# Train model"
   ]
  },
  {
   "cell_type": "code",
   "execution_count": 8,
   "metadata": {
    "collapsed": false
   },
   "outputs": [
    {
     "data": {
      "text/html": [
       "<div>\n",
       "<table border=\"1\" class=\"dataframe\">\n",
       "  <thead>\n",
       "    <tr style=\"text-align: right;\">\n",
       "      <th></th>\n",
       "      <th>USER_ID</th>\n",
       "      <th>POI_ID</th>\n",
       "      <th>CHANNEL</th>\n",
       "      <th>DATE</th>\n",
       "      <th>TIME_CAT</th>\n",
       "      <th>LOC_CAT</th>\n",
       "      <th>MC_CAT</th>\n",
       "      <th>CARD_CAT</th>\n",
       "      <th>AMT_CAT</th>\n",
       "      <th>GEO_X</th>\n",
       "      <th>GEO_Y</th>\n",
       "    </tr>\n",
       "  </thead>\n",
       "  <tbody>\n",
       "    <tr>\n",
       "      <th>0</th>\n",
       "      <td>91498</td>\n",
       "      <td>28052</td>\n",
       "      <td>p</td>\n",
       "      <td>2014-01-01</td>\n",
       "      <td>a</td>\n",
       "      <td>b</td>\n",
       "      <td>b</td>\n",
       "      <td>d</td>\n",
       "      <td>b</td>\n",
       "      <td>605119.0</td>\n",
       "      <td>58997.8</td>\n",
       "    </tr>\n",
       "    <tr>\n",
       "      <th>1</th>\n",
       "      <td>266177</td>\n",
       "      <td>1759</td>\n",
       "      <td>n</td>\n",
       "      <td>2014-01-01</td>\n",
       "      <td>a</td>\n",
       "      <td>NaN</td>\n",
       "      <td>j</td>\n",
       "      <td>d</td>\n",
       "      <td>b</td>\n",
       "      <td>NaN</td>\n",
       "      <td>NaN</td>\n",
       "    </tr>\n",
       "    <tr>\n",
       "      <th>2</th>\n",
       "      <td>202438</td>\n",
       "      <td>897</td>\n",
       "      <td>p</td>\n",
       "      <td>2014-01-01</td>\n",
       "      <td>a</td>\n",
       "      <td>b</td>\n",
       "      <td>b</td>\n",
       "      <td>d</td>\n",
       "      <td>c</td>\n",
       "      <td>698820.0</td>\n",
       "      <td>174757.0</td>\n",
       "    </tr>\n",
       "    <tr>\n",
       "      <th>3</th>\n",
       "      <td>109668</td>\n",
       "      <td>19939</td>\n",
       "      <td>p</td>\n",
       "      <td>2014-01-01</td>\n",
       "      <td>a</td>\n",
       "      <td>b</td>\n",
       "      <td>b</td>\n",
       "      <td>d</td>\n",
       "      <td>b</td>\n",
       "      <td>716050.0</td>\n",
       "      <td>271521.0</td>\n",
       "    </tr>\n",
       "    <tr>\n",
       "      <th>4</th>\n",
       "      <td>218581</td>\n",
       "      <td>13992</td>\n",
       "      <td>p</td>\n",
       "      <td>2014-01-01</td>\n",
       "      <td>a</td>\n",
       "      <td>a</td>\n",
       "      <td>j</td>\n",
       "      <td>d</td>\n",
       "      <td>c</td>\n",
       "      <td>653242.0</td>\n",
       "      <td>239511.0</td>\n",
       "    </tr>\n",
       "  </tbody>\n",
       "</table>\n",
       "</div>"
      ],
      "text/plain": [
       "   USER_ID  POI_ID CHANNEL        DATE TIME_CAT LOC_CAT MC_CAT CARD_CAT  \\\n",
       "0    91498   28052       p  2014-01-01        a       b      b        d   \n",
       "1   266177    1759       n  2014-01-01        a     NaN      j        d   \n",
       "2   202438     897       p  2014-01-01        a       b      b        d   \n",
       "3   109668   19939       p  2014-01-01        a       b      b        d   \n",
       "4   218581   13992       p  2014-01-01        a       a      j        d   \n",
       "\n",
       "  AMT_CAT     GEO_X     GEO_Y  \n",
       "0       b  605119.0   58997.8  \n",
       "1       b       NaN       NaN  \n",
       "2       c  698820.0  174757.0  \n",
       "3       b  716050.0  271521.0  \n",
       "4       c  653242.0  239511.0  "
      ]
     },
     "execution_count": 8,
     "metadata": {},
     "output_type": "execute_result"
    }
   ],
   "source": [
    "train_14.head()"
   ]
  },
  {
   "cell_type": "code",
   "execution_count": 9,
   "metadata": {
    "collapsed": false
   },
   "outputs": [
    {
     "data": {
      "text/html": [
       "<div>\n",
       "<table border=\"1\" class=\"dataframe\">\n",
       "  <thead>\n",
       "    <tr style=\"text-align: right;\">\n",
       "      <th></th>\n",
       "      <th>USER_ID</th>\n",
       "      <th>AGE_CAT</th>\n",
       "      <th>LOC_CAT</th>\n",
       "      <th>INC_CAT</th>\n",
       "      <th>GEN</th>\n",
       "      <th>LOC_GEO_X</th>\n",
       "      <th>LOC_GEO_Y</th>\n",
       "      <th>TARGET_TASK_2</th>\n",
       "      <th>C201401</th>\n",
       "      <th>C201402</th>\n",
       "      <th>...</th>\n",
       "      <th>W201403</th>\n",
       "      <th>W201404</th>\n",
       "      <th>W201405</th>\n",
       "      <th>W201406</th>\n",
       "      <th>W201407</th>\n",
       "      <th>W201408</th>\n",
       "      <th>W201409</th>\n",
       "      <th>W201410</th>\n",
       "      <th>W201411</th>\n",
       "      <th>W201412</th>\n",
       "    </tr>\n",
       "  </thead>\n",
       "  <tbody>\n",
       "    <tr>\n",
       "      <th>0</th>\n",
       "      <td>30277</td>\n",
       "      <td>a</td>\n",
       "      <td>c</td>\n",
       "      <td>b</td>\n",
       "      <td>0</td>\n",
       "      <td>857400</td>\n",
       "      <td>334900</td>\n",
       "      <td>2014.04.30</td>\n",
       "      <td>0</td>\n",
       "      <td>0</td>\n",
       "      <td>...</td>\n",
       "      <td>0</td>\n",
       "      <td>0</td>\n",
       "      <td>0</td>\n",
       "      <td>0</td>\n",
       "      <td>0</td>\n",
       "      <td>0</td>\n",
       "      <td>0</td>\n",
       "      <td>0</td>\n",
       "      <td>0</td>\n",
       "      <td>0</td>\n",
       "    </tr>\n",
       "    <tr>\n",
       "      <th>1</th>\n",
       "      <td>99045</td>\n",
       "      <td>b</td>\n",
       "      <td>b</td>\n",
       "      <td>b</td>\n",
       "      <td>0</td>\n",
       "      <td>699400</td>\n",
       "      <td>173300</td>\n",
       "      <td>NaN</td>\n",
       "      <td>0</td>\n",
       "      <td>0</td>\n",
       "      <td>...</td>\n",
       "      <td>0</td>\n",
       "      <td>0</td>\n",
       "      <td>0</td>\n",
       "      <td>0</td>\n",
       "      <td>0</td>\n",
       "      <td>0</td>\n",
       "      <td>0</td>\n",
       "      <td>0</td>\n",
       "      <td>0</td>\n",
       "      <td>0</td>\n",
       "    </tr>\n",
       "    <tr>\n",
       "      <th>2</th>\n",
       "      <td>19239</td>\n",
       "      <td>a</td>\n",
       "      <td>b</td>\n",
       "      <td>d</td>\n",
       "      <td>0</td>\n",
       "      <td>695900</td>\n",
       "      <td>170700</td>\n",
       "      <td>NaN</td>\n",
       "      <td>0</td>\n",
       "      <td>0</td>\n",
       "      <td>...</td>\n",
       "      <td>0</td>\n",
       "      <td>0</td>\n",
       "      <td>0</td>\n",
       "      <td>0</td>\n",
       "      <td>0</td>\n",
       "      <td>0</td>\n",
       "      <td>0</td>\n",
       "      <td>0</td>\n",
       "      <td>0</td>\n",
       "      <td>0</td>\n",
       "    </tr>\n",
       "    <tr>\n",
       "      <th>3</th>\n",
       "      <td>24396</td>\n",
       "      <td>a</td>\n",
       "      <td>b</td>\n",
       "      <td>a</td>\n",
       "      <td>0</td>\n",
       "      <td>585900</td>\n",
       "      <td>78300</td>\n",
       "      <td>NaN</td>\n",
       "      <td>0</td>\n",
       "      <td>0</td>\n",
       "      <td>...</td>\n",
       "      <td>0</td>\n",
       "      <td>0</td>\n",
       "      <td>0</td>\n",
       "      <td>0</td>\n",
       "      <td>0</td>\n",
       "      <td>0</td>\n",
       "      <td>0</td>\n",
       "      <td>0</td>\n",
       "      <td>0</td>\n",
       "      <td>0</td>\n",
       "    </tr>\n",
       "    <tr>\n",
       "      <th>4</th>\n",
       "      <td>111628</td>\n",
       "      <td>b</td>\n",
       "      <td>b</td>\n",
       "      <td>a</td>\n",
       "      <td>0</td>\n",
       "      <td>586000</td>\n",
       "      <td>78200</td>\n",
       "      <td>2015.06.30</td>\n",
       "      <td>1</td>\n",
       "      <td>1</td>\n",
       "      <td>...</td>\n",
       "      <td>0</td>\n",
       "      <td>0</td>\n",
       "      <td>0</td>\n",
       "      <td>0</td>\n",
       "      <td>0</td>\n",
       "      <td>0</td>\n",
       "      <td>0</td>\n",
       "      <td>0</td>\n",
       "      <td>0</td>\n",
       "      <td>0</td>\n",
       "    </tr>\n",
       "  </tbody>\n",
       "</table>\n",
       "<p>5 rows × 32 columns</p>\n",
       "</div>"
      ],
      "text/plain": [
       "   USER_ID AGE_CAT LOC_CAT INC_CAT  GEN  LOC_GEO_X  LOC_GEO_Y TARGET_TASK_2  \\\n",
       "0    30277       a       c       b    0     857400     334900    2014.04.30   \n",
       "1    99045       b       b       b    0     699400     173300           NaN   \n",
       "2    19239       a       b       d    0     695900     170700           NaN   \n",
       "3    24396       a       b       a    0     585900      78300           NaN   \n",
       "4   111628       b       b       a    0     586000      78200    2015.06.30   \n",
       "\n",
       "   C201401  C201402   ...     W201403  W201404  W201405  W201406  W201407  \\\n",
       "0        0        0   ...           0        0        0        0        0   \n",
       "1        0        0   ...           0        0        0        0        0   \n",
       "2        0        0   ...           0        0        0        0        0   \n",
       "3        0        0   ...           0        0        0        0        0   \n",
       "4        1        1   ...           0        0        0        0        0   \n",
       "\n",
       "   W201408  W201409  W201410  W201411  W201412  \n",
       "0        0        0        0        0        0  \n",
       "1        0        0        0        0        0  \n",
       "2        0        0        0        0        0  \n",
       "3        0        0        0        0        0  \n",
       "4        0        0        0        0        0  \n",
       "\n",
       "[5 rows x 32 columns]"
      ]
     },
     "execution_count": 9,
     "metadata": {},
     "output_type": "execute_result"
    }
   ],
   "source": [
    "users_14.head()"
   ]
  },
  {
   "cell_type": "code",
   "execution_count": 10,
   "metadata": {
    "collapsed": false
   },
   "outputs": [
    {
     "name": "stdout",
     "output_type": "stream",
     "text": [
      "9135 182103 191238\n"
     ]
    }
   ],
   "source": [
    "users_with_target_mask = ~pd.isnull(users_14[\"TARGET_TASK_2\"])\n",
    "users_with_target = users_14[users_with_target_mask].sort_values(\"USER_ID\")\n",
    "users_wo_target = users_14[~users_with_target_mask]\n",
    "print len(users_with_target), len(users_wo_target), len(users_14)"
   ]
  },
  {
   "cell_type": "code",
   "execution_count": 11,
   "metadata": {
    "collapsed": false
   },
   "outputs": [
    {
     "name": "stdout",
     "output_type": "stream",
     "text": [
      "396\n",
      "19470 (69, 412, 0.14345114345114346)\n",
      "15551 (58, 379, 0.13272311212814644)\n",
      "4614 (66, 432, 0.13253012048192772)\n",
      "13298 (54, 373, 0.12646370023419204)\n",
      "19823 (57, 394, 0.12638580931263857)\n",
      "27109 (73, 509, 0.12542955326460481)\n",
      "21111 (62, 433, 0.12525252525252525)\n",
      "18205 (64, 460, 0.12213740458015267)\n",
      "13848 (51, 384, 0.11724137931034483)\n",
      "18210 (75, 568, 0.1166407465007776)\n",
      "25693 (60, 456, 0.11627906976744186)\n",
      "23720 (61, 464, 0.11619047619047619)\n",
      "24251 (62, 478, 0.11481481481481481)\n",
      "16992 (54, 417, 0.11464968152866242)\n",
      "13404 (56, 434, 0.11428571428571428)\n",
      "13137 (57, 446, 0.11332007952286283)\n",
      "22793 (58, 456, 0.11284046692607004)\n",
      "17335 (75, 595, 0.11194029850746269)\n",
      "17879 (60, 476, 0.11194029850746269)\n",
      "1848 (93, 742, 0.11137724550898204)\n",
      "27600 (61, 487, 0.11131386861313869)\n",
      "27403 (96, 769, 0.11098265895953757)\n",
      "12911 (62, 497, 0.11091234347048301)\n",
      "26787 (62, 498, 0.11071428571428571)\n",
      "742 (54, 438, 0.10975609756097561)\n",
      "3659 (56, 455, 0.1095890410958904)\n",
      "12502 (96, 781, 0.10946408209806158)\n",
      "12362 (52, 428, 0.10833333333333334)\n",
      "22846 (80, 662, 0.1078167115902965)\n",
      "18150 (127, 1063, 0.10672268907563025)\n",
      "9025 (140, 1173, 0.10662604722010663)\n",
      "11763 (68, 573, 0.10608424336973479)\n",
      "5887 (52, 439, 0.10590631364562118)\n",
      "1236 (58, 493, 0.10526315789473684)\n",
      "17255 (79, 674, 0.10491367861885791)\n",
      "1475 (64, 549, 0.10440456769983687)\n",
      "15993 (125, 1074, 0.1042535446205171)\n",
      "23360 (95, 824, 0.10337323177366703)\n",
      "7542 (60, 523, 0.10291595197255575)\n",
      "24221 (94, 820, 0.10284463894967177)\n",
      "23495 (52, 454, 0.10276679841897234)\n",
      "15046 (52, 460, 0.1015625)\n",
      "13340 (110, 976, 0.10128913443830571)\n",
      "10324 (69, 613, 0.10117302052785923)\n",
      "27638 (56, 498, 0.10108303249097472)\n",
      "24188 (60, 535, 0.10084033613445378)\n",
      "11213 (51, 455, 0.1007905138339921)\n",
      "20734 (197, 1758, 0.10076726342710997)\n",
      "8948 (83, 741, 0.10072815533980582)\n",
      "28358 (68, 608, 0.10059171597633136)\n",
      "8974 (99, 887, 0.10040567951318459)\n",
      "22232 (95, 852, 0.1003167898627244)\n",
      "3263 (73, 655, 0.10027472527472528)\n",
      "14981 (63, 566, 0.10015898251192369)\n",
      "16882 (85, 764, 0.10011778563015312)\n",
      "2242 (55, 495, 0.10000000000000001)\n",
      "1146 (73, 665, 0.098915989159891596)\n",
      "5087 (104, 949, 0.098765432098765427)\n",
      "14402 (63, 575, 0.098746081504702196)\n",
      "23362 (58, 530, 0.098639455782312924)\n",
      "3028 (57, 521, 0.098615916955017299)\n",
      "26031 (101, 924, 0.098536585365853663)\n",
      "2033 (80, 732, 0.098522167487684734)\n",
      "26060 (55, 506, 0.098039215686274508)\n",
      "23912 (72, 663, 0.097959183673469383)\n",
      "26223 (76, 700, 0.097938144329896906)\n",
      "3596 (138, 1278, 0.097457627118644072)\n",
      "2049 (59, 547, 0.097359735973597358)\n",
      "10569 (94, 872, 0.097308488612836433)\n",
      "13266 (58, 539, 0.097152428810720268)\n",
      "5042 (65, 605, 0.097014925373134331)\n",
      "4862 (68, 633, 0.09700427960057062)\n",
      "9372 (215, 2010, 0.09662921348314607)\n",
      "23207 (105, 982, 0.096596136154553813)\n",
      "16197 (85, 797, 0.096371882086167801)\n",
      "26522 (51, 479, 0.096226415094339629)\n",
      "28367 (87, 819, 0.09602649006622517)\n",
      "15648 (58, 548, 0.095709570957095716)\n",
      "17932 (52, 492, 0.095588235294117641)\n",
      "27043 (82, 776, 0.095571095571095568)\n",
      "7302 (68, 644, 0.095505617977528087)\n",
      "15830 (61, 579, 0.095312499999999994)\n",
      "23977 (115, 1095, 0.095041322314049589)\n",
      "27468 (72, 686, 0.09498680738786279)\n",
      "12188 (57, 544, 0.094841930116472545)\n",
      "2806 (90, 863, 0.094438614900314799)\n",
      "25064 (78, 748, 0.094430992736077482)\n",
      "809 (91, 873, 0.094398340248962653)\n",
      "17103 (83, 799, 0.094104308390022678)\n",
      "3820 (67, 646, 0.093969144460028048)\n",
      "27170 (137, 1323, 0.093835616438356168)\n",
      "5186 (59, 570, 0.093799682034976156)\n",
      "13937 (60, 580, 0.09375)\n",
      "18547 (59, 572, 0.093502377179080817)\n",
      "18325 (60, 583, 0.093312597200622086)\n",
      "2801 (55, 535, 0.093220338983050849)\n",
      "23760 (129, 1259, 0.092939481268011534)\n",
      "7895 (51, 498, 0.092896174863387984)\n",
      "12950 (81, 795, 0.092465753424657529)\n",
      "25434 (114, 1121, 0.092307692307692313)\n",
      "15953 (82, 807, 0.092238470191226093)\n",
      "1363 (88, 867, 0.092146596858638741)\n",
      "6801 (66, 652, 0.091922005571030641)\n",
      "9872 (57, 564, 0.091787439613526575)\n",
      "8221 (61, 604, 0.091729323308270674)\n",
      "12564 (98, 971, 0.091674462114125346)\n",
      "11086 (55, 546, 0.091514143094841932)\n",
      "16459 (78, 775, 0.091441969519343497)\n",
      "8420 (88, 877, 0.091191709844559585)\n",
      "17451 (63, 628, 0.091172214182344433)\n",
      "24969 (117, 1168, 0.091050583657587544)\n",
      "6413 (69, 689, 0.091029023746701854)\n",
      "17496 (80, 799, 0.091012514220705346)\n",
      "11162 (84, 840, 0.090909090909090912)\n",
      "20100 (70, 700, 0.090909090909090912)\n",
      "20531 (69, 692, 0.090670170827858082)\n",
      "16230 (75, 753, 0.090579710144927536)\n",
      "25257 (89, 896, 0.090355329949238575)\n",
      "17731 (78, 786, 0.090277777777777776)\n",
      "4092 (70, 706, 0.090206185567010308)\n",
      "14421 (56, 565, 0.090177133655394523)\n",
      "11780 (67, 676, 0.090174966352624494)\n",
      "26375 (99, 1000, 0.090081892629663332)\n",
      "22578 (65, 657, 0.090027700831024932)\n",
      "9523 (150, 1517, 0.089982003599280144)\n",
      "7658 (66, 668, 0.089918256130790186)\n",
      "29008 (75, 760, 0.089820359281437126)\n",
      "23280 (58, 588, 0.089783281733746126)\n",
      "5781 (97, 984, 0.089731729879740985)\n",
      "21007 (116, 1179, 0.089575289575289568)\n",
      "9719 (54, 549, 0.089552238805970144)\n",
      "9694 (167, 1702, 0.089352594970572505)\n",
      "19975 (73, 744, 0.08935128518971848)\n",
      "16163 (52, 530, 0.089347079037800689)\n",
      "6426 (56, 573, 0.089030206677265494)\n",
      "2021 (79, 810, 0.088863892013498313)\n",
      "24130 (112, 1149, 0.088818398096748616)\n",
      "6436 (69, 708, 0.088803088803088806)\n",
      "27694 (59, 606, 0.088721804511278202)\n",
      "10867 (167, 1719, 0.088547189819724287)\n",
      "22158 (53, 546, 0.088480801335559259)\n",
      "1156 (96, 991, 0.088316467341306354)\n",
      "10673 (112, 1157, 0.088258471237194644)\n",
      "5916 (51, 527, 0.088235294117647065)\n",
      "20115 (62, 641, 0.088193456614509252)\n",
      "2424 (99, 1024, 0.088156723063223502)\n",
      "24927 (73, 756, 0.08805790108564536)\n",
      "7379 (99, 1027, 0.087921847246891657)\n",
      "3584 (79, 820, 0.087875417130144601)\n",
      "9158 (72, 748, 0.087804878048780483)\n",
      "11606 (149, 1548, 0.087802003535651152)\n",
      "7959 (54, 563, 0.087520259319286878)\n",
      "11058 (76, 793, 0.087456846950517836)\n",
      "23524 (152, 1587, 0.087406555491661875)\n",
      "12918 (97, 1013, 0.087387387387387383)\n",
      "24728 (73, 764, 0.087216248506571087)\n",
      "18067 (97, 1017, 0.08707360861759425)\n",
      "25762 (79, 830, 0.08690869086908691)\n",
      "16395 (103, 1084, 0.086773378264532436)\n",
      "8879 (64, 675, 0.086603518267929641)\n",
      "22599 (104, 1097, 0.086594504579517076)\n",
      "1721 (77, 814, 0.086419753086419748)\n",
      "16417 (62, 656, 0.086350974930362118)\n",
      "18147 (103, 1091, 0.086264656616415414)\n",
      "4880 (72, 763, 0.086227544910179643)\n",
      "20868 (73, 774, 0.086186540731995276)\n",
      "18706 (56, 594, 0.08615384615384615)\n",
      "14331 (86, 914, 0.085999999999999993)\n",
      "27920 (227, 2415, 0.085919757759273283)\n",
      "28620 (100, 1064, 0.085910652920962199)\n",
      "24222 (204, 2179, 0.085606378514477555)\n",
      "16742 (189, 2020, 0.085559076505205972)\n",
      "14378 (173, 1850, 0.085516559565002467)\n",
      "15884 (59, 631, 0.085507246376811591)\n",
      "5323 (85, 910, 0.085427135678391955)\n",
      "7252 (58, 621, 0.085419734904270989)\n",
      "21342 (56, 601, 0.085235920852359204)\n",
      "5065 (210, 2254, 0.085227272727272721)\n",
      "8961 (231, 2480, 0.085208410180745112)\n",
      "26573 (76, 816, 0.08520179372197309)\n",
      "348 (96, 1031, 0.085181898846495116)\n",
      "7991 (93, 999, 0.085164835164835168)\n",
      "23029 (90, 967, 0.085146641438032161)\n",
      "19972 (237, 2547, 0.085129310344827583)\n",
      "25837 (80, 860, 0.085106382978723402)\n",
      "15951 (117, 1262, 0.084844089920232055)\n",
      "7048 (112, 1211, 0.084656084656084651)\n",
      "8617 (74, 801, 0.084571428571428575)\n",
      "16560 (98, 1061, 0.084555651423641076)\n",
      "17694 (58, 628, 0.084548104956268216)\n",
      "4913 (88, 956, 0.084291187739463605)\n",
      "25625 (57, 620, 0.084194977843426888)\n",
      "8082 (65, 708, 0.084087968952134537)\n",
      "9121 (62, 676, 0.084010840108401083)\n",
      "13467 (75, 818, 0.083986562150055996)\n",
      "2712 (67, 732, 0.083854818523153948)\n",
      "23476 (206, 2251, 0.083842083842083845)\n",
      "27184 (58, 634, 0.083815028901734104)\n",
      "17610 (132, 1443, 0.083809523809523806)\n",
      "20259 (77, 843, 0.083695652173913046)\n",
      "12241 (77, 844, 0.08360477741585233)\n",
      "23777 (55, 603, 0.083586626139817627)\n",
      "23049 (83, 910, 0.083585095669687817)\n",
      "26504 (61, 669, 0.083561643835616442)\n",
      "1081 (76, 834, 0.083516483516483511)\n",
      "13909 (346, 3797, 0.083514361573738843)\n",
      "27007 (57, 626, 0.083455344070278187)\n",
      "12266 (80, 879, 0.083420229405630861)\n",
      "605 (104, 1143, 0.083400160384923816)\n",
      "2264 (87, 959, 0.083173996175908219)\n",
      "1492 (74, 816, 0.083146067415730343)\n",
      "13777 (64, 707, 0.083009079118028531)\n",
      "21999 (194, 2144, 0.082976903336184779)\n",
      "715 (52, 575, 0.082934609250398722)\n",
      "12616 (55, 609, 0.082831325301204822)\n",
      "27918 (76, 842, 0.082788671023965144)\n",
      "4194 (219, 2432, 0.082610335722368922)\n",
      "5565 (72, 801, 0.08247422680412371)\n",
      "3112 (60, 668, 0.082417582417582416)\n",
      "20265 (58, 648, 0.082152974504249299)\n",
      "13819 (185, 2070, 0.082039911308203997)\n",
      "6396 (132, 1478, 0.081987577639751549)\n",
      "14488 (192, 2150, 0.081981212638770284)\n",
      "9366 (55, 616, 0.081967213114754092)\n",
      "5679 (70, 784, 0.081967213114754092)\n",
      "22190 (89, 997, 0.081952117863720073)\n",
      "7123 (70, 785, 0.081871345029239762)\n",
      "2306 (68, 764, 0.081730769230769232)\n",
      "25503 (68, 764, 0.081730769230769232)\n",
      "28491 (115, 1293, 0.081676136363636367)\n",
      "5403 (88, 990, 0.081632653061224483)\n",
      "6514 (76, 856, 0.0815450643776824)\n",
      "5915 (86, 969, 0.081516587677725114)\n",
      "5807 (56, 631, 0.081513828238719069)\n",
      "17829 (92, 1037, 0.081488042515500445)\n",
      "19188 (79, 891, 0.081443298969072167)\n",
      "2392 (57, 644, 0.081312410841654775)\n",
      "26969 (74, 839, 0.081051478641840091)\n",
      "2328 (60, 681, 0.080971659919028341)\n",
      "22883 (218, 2475, 0.080950612699591529)\n",
      "25132 (54, 614, 0.080838323353293412)\n",
      "6945 (52, 592, 0.080745341614906832)\n",
      "6942 (51, 584, 0.080314960629921259)\n",
      "15227 (170, 1949, 0.080226521944313359)\n",
      "18134 (86, 986, 0.080223880597014921)\n",
      "11833 (304, 3487, 0.0801899235030335)\n",
      "28897 (125, 1435, 0.080128205128205135)\n",
      "27178 (54, 620, 0.080118694362017809)\n",
      "20481 (83, 954, 0.080038572806171646)\n",
      "3580 (74, 853, 0.07982740021574973)\n",
      "7281 (51, 588, 0.079812206572769953)\n",
      "5379 (94, 1087, 0.079593564775613884)\n",
      "12526 (108, 1249, 0.079587324981577001)\n",
      "27176 (64, 741, 0.079503105590062115)\n",
      "7567 (56, 650, 0.079320113314447591)\n",
      "8052 (128, 1488, 0.079207920792079209)\n",
      "18240 (73, 849, 0.079175704989154008)\n",
      "9129 (118, 1376, 0.078982597054886208)\n",
      "16238 (59, 689, 0.078877005347593579)\n",
      "27294 (151, 1764, 0.078851174934725848)\n",
      "8962 (54, 636, 0.078260869565217397)\n",
      "8116 (78, 919, 0.078234704112337017)\n",
      "28216 (57, 672, 0.078189300411522639)\n",
      "18472 (78, 920, 0.078156312625250496)\n",
      "12857 (54, 637, 0.078147612156295218)\n",
      "15782 (89, 1050, 0.078138718173836705)\n",
      "6175 (67, 792, 0.077997671711292196)\n",
      "10705 (95, 1125, 0.077868852459016397)\n",
      "6448 (93, 1103, 0.077759197324414719)\n",
      "25952 (51, 605, 0.07774390243902439)\n",
      "6073 (51, 605, 0.07774390243902439)\n",
      "23715 (52, 617, 0.077727952167414044)\n",
      "9175 (55, 653, 0.077683615819209045)\n",
      "14915 (227, 2700, 0.077553809361120607)\n",
      "25428 (54, 643, 0.077474892395982778)\n",
      "8983 (65, 774, 0.077473182359952319)\n",
      "22699 (71, 846, 0.077426390403489642)\n",
      "19347 (73, 871, 0.077330508474576273)\n",
      "10311 (56, 669, 0.077241379310344832)\n",
      "8859 (85, 1016, 0.077202543142597641)\n",
      "25144 (184, 2204, 0.07705192629815745)\n",
      "17574 (62, 744, 0.076923076923076927)\n",
      "25855 (101, 1216, 0.076689445709946846)\n",
      "10570 (407, 4902, 0.076662271614239968)\n",
      "19087 (53, 639, 0.076589595375722547)\n",
      "8360 (155, 1869, 0.076581027667984192)\n",
      "10953 (51, 615, 0.076576576576576572)\n",
      "18368 (66, 796, 0.076566125290023199)\n",
      "14598 (77, 930, 0.076464746772591852)\n",
      "15612 (67, 810, 0.076396807297605479)\n",
      "16470 (87, 1053, 0.076315789473684212)\n",
      "3172 (133, 1612, 0.076217765042979946)\n",
      "28191 (56, 679, 0.076190476190476197)\n",
      "23143 (63, 765, 0.076086956521739135)\n",
      "14161 (67, 815, 0.075963718820861684)\n",
      "20957 (72, 876, 0.075949367088607597)\n",
      "28027 (265, 3234, 0.075735924549871395)\n",
      "12854 (58, 708, 0.075718015665796348)\n",
      "27484 (84, 1027, 0.075607560756075609)\n",
      "23162 (123, 1509, 0.075367647058823525)\n",
      "13553 (52, 639, 0.075253256150506515)\n",
      "20649 (144, 1776, 0.074999999999999997)\n",
      "16333 (62, 765, 0.074969770253929868)\n",
      "18786 (235, 2900, 0.074960127591706532)\n",
      "13207 (96, 1186, 0.074882995319812795)\n",
      "4220 (70, 865, 0.074866310160427801)\n",
      "9700 (170, 2101, 0.074856891237340378)\n",
      "27596 (100, 1240, 0.074626865671641784)\n",
      "3941 (87, 1079, 0.074614065180102912)\n",
      "14721 (110, 1365, 0.074576271186440682)\n",
      "7597 (60, 747, 0.07434944237918216)\n",
      "18558 (76, 947, 0.074291300097751714)\n",
      "12695 (56, 698, 0.074270557029177717)\n",
      "20130 (193, 2406, 0.074259330511735278)\n",
      "16651 (160, 1996, 0.074211502782931357)\n",
      "8122 (264, 3294, 0.074198988195615517)\n",
      "10948 (56, 701, 0.073976221928665792)\n",
      "6671 (122, 1528, 0.073939393939393944)\n",
      "21225 (59, 740, 0.073842302878598248)\n",
      "13301 (154, 1933, 0.073790129372304739)\n",
      "17166 (94, 1183, 0.073610023492560683)\n",
      "6596 (138, 1738, 0.073560767590618331)\n",
      "14987 (161, 2032, 0.073415412676698585)\n",
      "12438 (66, 833, 0.073414905450500556)\n",
      "5085 (76, 961, 0.073288331726133082)\n",
      "25155 (51, 645, 0.073275862068965511)\n",
      "16022 (65, 824, 0.073115860517435322)\n",
      "22070 (93, 1180, 0.073055773762765119)\n",
      "15954 (340, 4319, 0.072977033698218507)\n",
      "15668 (52, 664, 0.072625698324022353)\n",
      "18390 (51, 653, 0.072443181818181823)\n",
      "16109 (179, 2293, 0.072411003236245955)\n",
      "17330 (77, 989, 0.072232645403377108)\n",
      "3641 (92, 1182, 0.072213500784929358)\n",
      "27060 (54, 694, 0.072192513368983954)\n",
      "23731 (124, 1595, 0.072134962187318213)\n",
      "11671 (54, 695, 0.07209612817089453)\n",
      "22745 (167, 2161, 0.071735395189003431)\n",
      "17400 (73, 946, 0.07163886162904809)\n",
      "16365 (79, 1024, 0.07162284678150499)\n",
      "22552 (56, 727, 0.07151979565772669)\n",
      "23570 (66, 857, 0.071505958829902488)\n",
      "4130 (57, 741, 0.071428571428571425)\n",
      "10658 (65, 845, 0.071428571428571425)\n",
      "1071 (66, 859, 0.071351351351351358)\n",
      "19736 (207, 2701, 0.07118294360385144)\n",
      "20165 (71, 927, 0.071142284569138278)\n",
      "2138 (70, 914, 0.07113821138211382)\n",
      "11578 (73, 954, 0.07108081791626096)\n",
      "1513 (70, 915, 0.071065989847715741)\n",
      "11457 (52, 681, 0.070941336971350619)\n",
      "11354 (60, 786, 0.070921985815602842)\n",
      "18534 (255, 3345, 0.070833333333333331)\n",
      "24871 (80, 1052, 0.070671378091872794)\n",
      "20149 (51, 675, 0.070247933884297523)\n",
      "24754 (70, 928, 0.070140280561122245)\n",
      "20302 (78, 1037, 0.069955156950672642)\n",
      "21381 (112, 1492, 0.069825436408977551)\n",
      "21245 (118, 1572, 0.06982248520710059)\n",
      "20798 (69, 921, 0.069696969696969702)\n",
      "28390 (71, 951, 0.06947162426614481)\n",
      "8254 (61, 818, 0.069397042093287828)\n",
      "23106 (87, 1169, 0.069267515923566877)\n",
      "13992 (461, 6289, 0.068296296296296299)\n",
      "8726 (63, 861, 0.068181818181818177)\n",
      "13142 (56, 766, 0.068126520681265207)\n",
      "187 (150, 2053, 0.068088969586926923)\n",
      "10791 (95, 1304, 0.067905646890636162)\n",
      "27992 (131, 1806, 0.067630356220960253)\n",
      "6236 (79, 1091, 0.067521367521367517)\n",
      "14019 (113, 1567, 0.067261904761904759)\n",
      "23542 (182, 2528, 0.067158671586715873)\n",
      "27276 (61, 853, 0.066739606126914666)\n",
      "16159 (125, 1751, 0.066631130063965885)\n",
      "1351 (55, 772, 0.066505441354292621)\n",
      "28231 (75, 1065, 0.065789473684210523)\n",
      "26857 (730, 10405, 0.065559048046699597)\n",
      "4713 (68, 983, 0.064700285442435779)\n",
      "11270 (59, 856, 0.064480874316939885)\n",
      "6245 (112, 1625, 0.0644789867587795)\n",
      "12938 (96, 1396, 0.064343163538873996)\n",
      "4571 (78, 1135, 0.064303380049464134)\n",
      "25360 (56, 840, 0.0625)\n",
      "2517 (292, 4458, 0.061473684210526312)\n",
      "10406 (71, 1098, 0.060735671514114631)\n",
      "27474 (54, 836, 0.060674157303370786)\n",
      "276 (84, 1303, 0.060562364816149961)\n",
      "16059 (124, 1928, 0.06042884990253411)\n",
      "15567 (64, 1001, 0.060093896713615022)\n",
      "4916 (55, 861, 0.060043668122270744)\n",
      "3828 (90, 1427, 0.059327620303230057)\n",
      "20121 (77, 1235, 0.058689024390243899)\n",
      "8669 (104, 1679, 0.058328659562535051)\n",
      "747 (81, 1341, 0.056962025316455694)\n",
      "29034 (77, 1292, 0.056245434623813005)\n",
      "10116 (51, 1040, 0.046746104491292392)\n",
      "91\n",
      "27046 (43, 253, 0.14527027027027026)\n",
      "13380 (26, 158, 0.14130434782608695)\n",
      "284 (15, 93, 0.1388888888888889)\n",
      "18582 (13, 86, 0.13131313131313133)\n",
      "20348 (12, 91, 0.11650485436893204)\n",
      "6327 (14, 110, 0.11290322580645161)\n",
      "28524 (15, 119, 0.11194029850746269)\n",
      "17005 (18, 143, 0.11180124223602485)\n",
      "26487 (13, 110, 0.10569105691056911)\n",
      "8526 (32, 276, 0.1038961038961039)\n",
      "14033 (11, 98, 0.10091743119266056)\n",
      "29210 (19, 170, 0.10052910052910052)\n",
      "27357 (22, 197, 0.1004566210045662)\n",
      "26311 (21, 192, 0.098591549295774641)\n",
      "17800 (50, 470, 0.096153846153846159)\n",
      "27281 (38, 363, 0.094763092269326679)\n",
      "9892 (16, 158, 0.091954022988505746)\n",
      "21700 (54, 536, 0.09152542372881356)\n",
      "14628 (17, 171, 0.090425531914893623)\n",
      "13552 (32, 325, 0.089635854341736695)\n",
      "7504 (19, 193, 0.089622641509433956)\n",
      "4273 (18, 184, 0.089108910891089105)\n",
      "9525 (156, 1600, 0.088838268792710701)\n",
      "26615 (39, 409, 0.087053571428571425)\n",
      "27030 (18, 191, 0.086124401913875603)\n",
      "19413 (28, 299, 0.085626911314984705)\n",
      "16920 (66, 705, 0.085603112840466927)\n",
      "2510 (35, 378, 0.084745762711864403)\n",
      "1716 (50, 541, 0.084602368866328256)\n",
      "21483 (71, 769, 0.084523809523809529)\n",
      "25765 (34, 372, 0.083743842364532015)\n",
      "19501 (40, 438, 0.083682008368200833)\n",
      "9477 (12, 132, 0.083333333333333329)\n",
      "411 (20, 224, 0.081967213114754092)\n",
      "7508 (53, 595, 0.081790123456790126)\n",
      "18042 (24, 270, 0.081632653061224483)\n",
      "9850 (67, 759, 0.081113801452784504)\n",
      "26493 (53, 606, 0.08042488619119878)\n",
      "26443 (25, 286, 0.080385852090032156)\n",
      "12314 (70, 806, 0.079908675799086754)\n",
      "15771 (48, 556, 0.079470198675496692)\n",
      "16542 (22, 255, 0.079422382671480149)\n",
      "1968 (13, 151, 0.07926829268292683)\n",
      "4825 (46, 535, 0.079173838209982791)\n",
      "21794 (141, 1645, 0.078947368421052627)\n",
      "9532 (20, 234, 0.07874015748031496)\n",
      "20186 (440, 5258, 0.077220077220077218)\n",
      "5657 (59, 707, 0.077023498694516968)\n",
      "25094 (13, 156, 0.076923076923076927)\n",
      "20960 (44, 529, 0.076788830715532289)\n",
      "21690 (35, 421, 0.076754385964912283)\n",
      "3895 (11, 134, 0.07586206896551724)\n",
      "14701 (554, 6753, 0.07581770904612016)\n",
      "20931 (49, 599, 0.075617283950617287)\n",
      "8271 (30, 368, 0.075376884422110546)\n",
      "165 (17, 209, 0.075221238938053103)\n",
      "19582 (146, 1800, 0.075025693730729703)\n",
      "12272 (449, 5605, 0.074165840766435412)\n",
      "17864 (117, 1461, 0.074144486692015205)\n",
      "21264 (54, 676, 0.073972602739726029)\n",
      "18089 (38, 476, 0.073929961089494164)\n",
      "15734 (76, 955, 0.073714839961202719)\n",
      "10398 (36, 459, 0.072727272727272724)\n",
      "19114 (29, 375, 0.071782178217821777)\n",
      "28648 (18, 234, 0.071428571428571425)\n",
      "5414 (87, 1135, 0.071194762684124391)\n",
      "16807 (24, 315, 0.070796460176991149)\n",
      "21448 (237, 3138, 0.070222222222222228)\n",
      "27786 (118, 1574, 0.069739952718676126)\n",
      "11277 (27, 362, 0.069408740359897178)\n",
      "19905 (19, 262, 0.067615658362989328)\n",
      "17324 (84, 1167, 0.067146282973621102)\n",
      "19875 (110, 1533, 0.06695069993913573)\n",
      "24499 (145, 2029, 0.066697332106715732)\n",
      "18851 (291, 4162, 0.065349202784639571)\n",
      "12788 (16, 233, 0.064257028112449793)\n",
      "18324 (14, 204, 0.064220183486238536)\n",
      "21091 (35, 514, 0.063752276867030971)\n",
      "3485 (66, 993, 0.062322946175637391)\n",
      "24161 (21, 319, 0.061764705882352944)\n",
      "6369 (171, 2620, 0.061268362594052314)\n",
      "9119 (5021, 77279, 0.061008505467800726)\n",
      "4860 (34, 537, 0.059544658493870403)\n",
      "1759 (185, 3177, 0.055026769779892924)\n",
      "10509 (13, 242, 0.050980392156862744)\n",
      "2286 (88, 1669, 0.050085372794536141)\n",
      "6370 (94, 1804, 0.049525816649104319)\n",
      "15526 (20, 390, 0.04878048780487805)\n",
      "16207 (17, 347, 0.046703296703296704)\n",
      "23792 (16, 382, 0.040201005025125629)\n",
      "5250 (20, 549, 0.035149384885764502)\n",
      "240\n"
     ]
    }
   ],
   "source": [
    "def get_popular_pois(channel, min_in_target, limit):\n",
    "    tmp = train_14[train_14[\"CHANNEL\"] == channel][[\"USER_ID\", \"POI_ID\"]].drop_duplicates()\n",
    "    tmp = tmp.merge(users_with_target[[\"USER_ID\"]], on=\"USER_ID\")\n",
    "    tmp2 = tmp.groupby(\"POI_ID\", as_index=False).count()\n",
    "    tmp2 = np.array(tmp2[tmp2[\"USER_ID\"] > min_in_target][\"POI_ID\"])\n",
    "    print len(tmp2)\n",
    "    res = {}\n",
    "    for poi_idx in tmp2:\n",
    "        visited_poi = train_14[train_14[\"POI_ID\"] == poi_idx][\"USER_ID\"].drop_duplicates()\n",
    "        visited_good = np.sum(visited_poi.isin(users_with_target[\"USER_ID\"]))\n",
    "        visited_bad = np.sum(~visited_poi.isin(users_with_target[\"USER_ID\"]))\n",
    "        res[poi_idx] = (visited_good, visited_bad, visited_good / float(visited_good + visited_bad))\n",
    "    for k, v in sorted(res.iteritems(), key=lambda x: -x[1][-1]):\n",
    "        print k, v\n",
    "    return sorted(map(lambda x: x[0], sorted(res.iteritems(), key=lambda x: -x[1][-1])[:limit]))\n",
    "        \n",
    "p_pois = get_popular_pois(\"p\", 50, 200)\n",
    "n_pois = get_popular_pois(\"n\", 10, 40)\n",
    "\n",
    "tmp = map(lambda x: (x, \"n\"), n_pois) + map(lambda x: (x, \"p\"), p_pois)\n",
    "pop_poi_to_idx = {v: k for k, v in enumerate(tmp)}\n",
    "print len(pop_poi_to_idx)"
   ]
  },
  {
   "cell_type": "code",
   "execution_count": 12,
   "metadata": {
    "collapsed": false
   },
   "outputs": [],
   "source": [
    "def user_row_to_feat(row):\n",
    "    f = {}\n",
    "    for k, v in dict(row).iteritems():\n",
    "        if k in [\"AGE_CAT\", \"LOC_CAT\", \"INC_CAT\", \"GEN\", \"LOC_GEO_X\", \"LOC_GEO_Y\"]:\n",
    "            f[k] = v\n",
    "        if k[:3] in (\"C20\", \"W20\"):\n",
    "            f[k[0] + k[-2:]] = v\n",
    "    # make user features\n",
    "    user_res = []\n",
    "    user_res.extend([f[\"LOC_GEO_X\"], f[\"LOC_GEO_Y\"], \n",
    "                     np.sqrt(((f[\"LOC_GEO_X\"] - 653741) ** 2 + (f[\"LOC_GEO_Y\"] - 239086) ** 2))])\n",
    "    \n",
    "    # take C** and W** for months from utm\n",
    "    tmpC = [0] * 6\n",
    "    tmpW = [0] * 6\n",
    "    for idx, m in enumerate(row[\"utm\"][::-1]):\n",
    "        m = m.split(\".\")[1]\n",
    "        tmpC[-(idx + 1)] = f[\"C\" + m]\n",
    "        tmpW[-(idx + 1)] = f[\"W\" + m]\n",
    "    user_res.extend(tmpC + tmpW)\n",
    "    user_res.append(f[\"GEN\"])\n",
    "    user_res.extend(list((np.array([\"a\", \"b\", \"c\"]) == f[\"AGE_CAT\"]).astype(int)))\n",
    "    user_res.extend(list((np.array([\"a\", \"b\", \"c\", \"d\"]) == f[\"INC_CAT\"]).astype(int)))\n",
    "    user_res.extend(list((np.array([\"a\", \"b\", \"c\"]) == f[\"LOC_CAT\"]).astype(int)))\n",
    "    return np.array([row[\"USER_ID\"]] + user_res)\n",
    "    \n",
    "def users_to_features(users):\n",
    "    res = parallel_apply_to_rows(\n",
    "        users,\n",
    "        user_row_to_feat,\n",
    "        n_jobs=32\n",
    "    )\n",
    "    \n",
    "    return {row[0]: row[1:] for row in res}\n",
    "\n",
    "def list_to_dict(lst):\n",
    "    return {k: v for v, k in enumerate(lst)}\n",
    "\n",
    "fields_to_vals = {\n",
    "    \"TIME_CAT\": [\"a\", \"b\", \"c\", \"\"],\n",
    "    \"LOC_CAT\": [\"a\", \"b\", \"c\", \"\"],\n",
    "    \"MC_CAT\": [\"a\", \"b\", \"c\", \"d\", \"e\", \"f\", \"g\", \"h\", \"i\", \"j\", \"\"],\n",
    "    \"CARD_CAT\": [\"c\", \"d\", \"\"],\n",
    "    \"AMT_CAT\": [\"a\", \"b\", \"c\", \"\"],\n",
    "}\n",
    "combs = [\n",
    "    [\"TIME_CAT\", \"LOC_CAT\", \"MC_CAT\", \"CARD_CAT\", \"AMT_CAT\"],\n",
    "]\n",
    "combs_values_to_idx = []\n",
    "for comb in combs:\n",
    "    combs_values_to_idx.append(list_to_dict(list(itertools.product(\n",
    "                    *[fields_to_vals[feat] for feat in comb]))))\n",
    "\n",
    "def user_trans_to_features(user_trans):\n",
    "    res = []\n",
    "    for comb, comb_vals in zip(combs, combs_values_to_idx):\n",
    "        data = np.zeros((len(comb_vals),))\n",
    "        for (_, row) in user_trans.iterrows():\n",
    "            data[comb_vals[tuple(\"\" if pd.isnull(row[f]) else row[f] for f in comb)]] = 1\n",
    "        res.append([np.sum(data)])\n",
    "        if np.sum(data) > 0:\n",
    "            data = data / float(np.sum(data))\n",
    "        res.append(data)\n",
    "        \n",
    "    # counters for popular places (n and p)\n",
    "    data = np.zeros((len(pop_poi_to_idx),))\n",
    "    for (_, row) in user_trans.iterrows():\n",
    "        if (row[\"POI_ID\"], row[\"CHANNEL\"]) in pop_poi_to_idx:\n",
    "            data[pop_poi_to_idx[(row[\"POI_ID\"], row[\"CHANNEL\"])]] += 1\n",
    "    res.append([np.sum(data)])\n",
    "    if np.sum(data) > 0:\n",
    "        data = data / float(np.sum(data))\n",
    "    res.append(data)\n",
    "    \n",
    "    cnt_p = 0\n",
    "    cnt_n = 0\n",
    "    for (_, row) in user_trans.iterrows():\n",
    "        if row[\"CHANNEL\"] == \"n\":\n",
    "            cnt_n += 1\n",
    "        else:\n",
    "            cnt_p += 1\n",
    "    \n",
    "    res.append([cnt_n, cnt_p])\n",
    "    \n",
    "    return np.hstack(res)\n",
    "\n",
    "def trans_to_users_features(transactions):\n",
    "    return dict(\n",
    "        parallel_groupby_and_apply(\n",
    "            transactions[transactions[\"CHANNEL\"].isin([\"p\", \"n\"])],\n",
    "            \"USER_ID\",\n",
    "            user_trans_to_features,\n",
    "            n_jobs=32\n",
    "        )\n",
    "    )\n",
    "\n",
    "def make_features(users, transactions, utm, target=None):\n",
    "    # only for users in utm for respective months\n",
    "    dates_df = []\n",
    "    for uid, ms in utm.iteritems():\n",
    "        start_y, start_m = ms[0].split(\".\")\n",
    "        stop_y, stop_m = ms[-1].split(\".\")\n",
    "        dates_df.append([uid, \"{0}-{1}-01\".format(start_y, start_m),\"{0}-{1}-31\".format(stop_y, stop_m)])\n",
    "    dates_df = pd.DataFrame(dates_df, columns=[\"USER_ID\", \"start_date\", \"end_date\"])\n",
    "    transactions = transactions.merge(dates_df)\n",
    "    transactions = transactions[(transactions[\"DATE\"] >= transactions[\"start_date\"]) &\n",
    "                                (transactions[\"DATE\"] <= transactions[\"end_date\"])]\n",
    "\n",
    "    utm_df = pd.DataFrame(list(utm.iteritems()), columns=[\"USER_ID\", \"utm\"])\n",
    "    users = users.merge(utm_df)\n",
    "    \n",
    "    users_f = users_to_features(users)\n",
    "    trans_f = trans_to_users_features(transactions)\n",
    "    \n",
    "    X = []\n",
    "    Y = []\n",
    "    if target is not None:\n",
    "        for uid in sorted(target.iterkeys()):\n",
    "            X.append(np.hstack((\n",
    "                        users_f[uid],\n",
    "                        trans_f.get(uid, [0] * len(trans_f.itervalues().next())))\n",
    "            ))\n",
    "            Y.append(target[uid])\n",
    "    else:\n",
    "        for uid in sorted(users[\"USER_ID\"]):\n",
    "            X.append(np.hstack((\n",
    "                        users_f[uid],\n",
    "                        trans_f.get(uid, [0] * len(trans_f.itervalues().next())))\n",
    "            ))\n",
    "    \n",
    "    X = np.array(X)\n",
    "    Y = pd.DataFrame(Y).fillna(0).as_matrix()\n",
    "    \n",
    "    return X, Y"
   ]
  },
  {
   "cell_type": "code",
   "execution_count": 13,
   "metadata": {
    "collapsed": false
   },
   "outputs": [
    {
     "name": "stdout",
     "output_type": "stream",
     "text": [
      "CPU times: user 48 s, sys: 11.3 s, total: 59.3 s\n",
      "Wall time: 2min 40s\n"
     ]
    }
   ],
   "source": [
    "%%time\n",
    "utm = {}\n",
    "target = {}\n",
    "for uid in users_with_target[users_with_target[\"TARGET_TASK_2\"] > '2014.06.30'][\"USER_ID\"]:\n",
    "    utm[uid] = [\"2014.01\", \"2014.02\", \"2014.03\", \"2014.04\", \"2014.05\", \"2014.06\"]\n",
    "    target[uid] = 1\n",
    "for uid in users_wo_target[\"USER_ID\"]:\n",
    "    utm[uid] = [\"2014.01\", \"2014.02\", \"2014.03\", \"2014.04\", \"2014.05\", \"2014.06\"]\n",
    "    target[uid] = 0\n",
    "    \n",
    "XX, YY = make_features(users_14, train_14, utm, target)\n",
    "\n",
    "# test, LB\n",
    "# 0.6680, 0.6902\n",
    "# 0.7010, 0.7079\n",
    "# 0.7035, 0.7101\n",
    "# 0.7043, 0.7110\n",
    "# 0.7094, 0.7134"
   ]
  },
  {
   "cell_type": "code",
   "execution_count": 16,
   "metadata": {
    "collapsed": true
   },
   "outputs": [],
   "source": [
    "XX_1, XX_2, YY_1, YY_2 = train_test_split(XX, YY, test_size=0.25, random_state=42, stratify=YY)"
   ]
  },
  {
   "cell_type": "code",
   "execution_count": 17,
   "metadata": {
    "collapsed": false
   },
   "outputs": [
    {
     "name": "stdout",
     "output_type": "stream",
     "text": [
      "(141031, 2382) (141031, 1) 4454\n",
      "(47011, 2382) (47011, 1) 1485\n"
     ]
    }
   ],
   "source": [
    "print XX_1.shape, YY_1.shape, np.sum(YY_1)\n",
    "print XX_2.shape, YY_2.shape, np.sum(YY_2)"
   ]
  },
  {
   "cell_type": "code",
   "execution_count": 18,
   "metadata": {
    "collapsed": false
   },
   "outputs": [
    {
     "name": "stdout",
     "output_type": "stream",
     "text": [
      "CPU times: user 3.78 s, sys: 2.14 s, total: 5.92 s\n",
      "Wall time: 5.92 s\n"
     ]
    }
   ],
   "source": [
    "%%time\n",
    "XX_nn = XX.copy()\n",
    "s = StandardScaler()\n",
    "XX_nn[:, np.max(XX_nn, axis=0) > 1] = s.fit_transform(XX_nn[:, np.max(XX_nn, axis=0) > 1])\n",
    "XX_1_nn, XX_2_nn = train_test_split(XX_nn, test_size=0.25, random_state=42, stratify=YY)"
   ]
  },
  {
   "cell_type": "code",
   "execution_count": 19,
   "metadata": {
    "collapsed": false
   },
   "outputs": [
    {
     "name": "stdout",
     "output_type": "stream",
     "text": [
      "train 0.718198655899\n",
      "test 0.69846837808\n",
      "CPU times: user 1min 34s, sys: 2.58 s, total: 1min 37s\n",
      "Wall time: 1min 33s\n"
     ]
    }
   ],
   "source": [
    "%%time\n",
    "clf = LogisticRegression(penalty='l1', C=1)\n",
    "clf.fit(XX_1_nn, YY_1.ravel())\n",
    "print \"train\", roc_auc_score(YY_1.ravel(), clf.predict_proba(XX_1_nn)[:, 1])\n",
    "print \"test\", roc_auc_score(YY_2.ravel(), clf.predict_proba(XX_2_nn)[:, 1])"
   ]
  },
  {
   "cell_type": "code",
   "execution_count": 20,
   "metadata": {
    "collapsed": false
   },
   "outputs": [
    {
     "name": "stdout",
     "output_type": "stream",
     "text": [
      "265\n"
     ]
    }
   ],
   "source": [
    "selected_features = (clf.coef_[0] != 0)\n",
    "print sum(selected_features)"
   ]
  },
  {
   "cell_type": "code",
   "execution_count": 24,
   "metadata": {
    "collapsed": false
   },
   "outputs": [
    {
     "name": "stdout",
     "output_type": "stream",
     "text": [
      "train 0.771844951649\n",
      "test 0.711476995201\n",
      "CPU times: user 9.6 s, sys: 46.6 s, total: 56.2 s\n",
      "Wall time: 3min 37s\n"
     ]
    }
   ],
   "source": [
    "%%time\n",
    "clf = MatrixNet(trees=1000, depth=6)  # proprietary in-house GBT\n",
    "clf.fit(XX_1_nn[:, selected_features], YY_1.ravel())\n",
    "print \"train\", roc_auc_score(YY_1.ravel(), clf.predict_proba(XX_1_nn[:, selected_features])[:, 1])\n",
    "print \"test\", roc_auc_score(YY_2.ravel(), clf.predict_proba(XX_2_nn[:, selected_features])[:, 1])"
   ]
  },
  {
   "cell_type": "code",
   "execution_count": 28,
   "metadata": {
    "collapsed": true
   },
   "outputs": [],
   "source": [
    "save_pickle(clf, \"model.pickle\")\n",
    "clf = read_pickle(\"model.pickle\")"
   ]
  },
  {
   "cell_type": "code",
   "execution_count": 48,
   "metadata": {
    "collapsed": false
   },
   "outputs": [
    {
     "name": "stdout",
     "output_type": "stream",
     "text": [
      "train 0.746861699498\n",
      "test 0.709048501681\n"
     ]
    }
   ],
   "source": [
    "# best found xgboost parameters\n",
    "clf = xgb.XGBClassifier(n_estimators=500, max_depth=4, min_child_weight=20, learning_rate=0.03)\n",
    "clf.fit(XX_1_nn[:, selected_features], YY_1.ravel())\n",
    "print \"train\", roc_auc_score(YY_1.ravel(), clf.predict_proba(XX_1_nn[:, selected_features])[:, 1])\n",
    "print \"test\", roc_auc_score(YY_2.ravel(), clf.predict_proba(XX_2_nn[:, selected_features])[:, 1])"
   ]
  },
  {
   "cell_type": "markdown",
   "metadata": {},
   "source": [
    "# Submission"
   ]
  },
  {
   "cell_type": "code",
   "execution_count": 49,
   "metadata": {
    "collapsed": false
   },
   "outputs": [
    {
     "name": "stdout",
     "output_type": "stream",
     "text": [
      "CPU times: user 48 s, sys: 32.7 s, total: 1min 20s\n",
      "Wall time: 3min 23s\n"
     ]
    }
   ],
   "source": [
    "%%time\n",
    "utm = {}\n",
    "for uid in users_15[\"USER_ID\"]:\n",
    "    utm[uid] = [\"2015.01\", \"2015.02\", \"2015.03\", \"2015.04\", \"2015.05\", \"2015.06\"]\n",
    "\n",
    "XXX, _ = make_features(users_15, train_15, utm)"
   ]
  },
  {
   "cell_type": "code",
   "execution_count": 50,
   "metadata": {
    "collapsed": false
   },
   "outputs": [
    {
     "data": {
      "text/plain": [
       "(191237, 2382)"
      ]
     },
     "execution_count": 50,
     "metadata": {},
     "output_type": "execute_result"
    }
   ],
   "source": [
    "XXX.shape"
   ]
  },
  {
   "cell_type": "code",
   "execution_count": 51,
   "metadata": {
    "collapsed": true
   },
   "outputs": [],
   "source": [
    "XXX_nn = XXX.copy()\n",
    "XXX_nn[:, np.max(XX_nn, axis=0) > 1] = s.fit_transform(XXX_nn[:, np.max(XX_nn, axis=0) > 1])"
   ]
  },
  {
   "cell_type": "code",
   "execution_count": 56,
   "metadata": {
    "collapsed": true
   },
   "outputs": [],
   "source": [
    "c = clf.predict_proba(XXX_nn[:, selected_features])[:, 1]"
   ]
  },
  {
   "cell_type": "code",
   "execution_count": 57,
   "metadata": {
    "collapsed": false
   },
   "outputs": [],
   "source": [
    "with open(\"submission2.csv\", \"w\") as f:\n",
    "    f.write(\"#USER_ID,SCORE\\n\")\n",
    "    for uid, proba in zip(sorted(users_15[\"USER_ID\"]), c):\n",
    "        f.write(\"{0},{1}\\n\".format(uid, proba))"
   ]
  },
  {
   "cell_type": "code",
   "execution_count": 59,
   "metadata": {
    "collapsed": false
   },
   "outputs": [
    {
     "name": "stdout",
     "output_type": "stream",
     "text": [
      "#USER_ID,SCORE\r\n",
      "1,0.0170267735888\r\n",
      "2,0.0177719576088\r\n",
      "4,0.0441158731675\r\n",
      "5,0.0193728089392\r\n",
      "6,0.0261968326774\r\n",
      "9,0.0238231232508\r\n",
      "12,0.00840575644266\r\n",
      "13,0.0143631785201\r\n",
      "14,0.0196082923624\r\n"
     ]
    }
   ],
   "source": [
    "! head submission2.csv"
   ]
  }
 ],
 "metadata": {
  "kernelspec": {
   "display_name": "Python 2",
   "language": "python",
   "name": "python2"
  },
  "language_info": {
   "codemirror_mode": {
    "name": "ipython",
    "version": 2
   },
   "file_extension": ".py",
   "mimetype": "text/x-python",
   "name": "python",
   "nbconvert_exporter": "python",
   "pygments_lexer": "ipython2",
   "version": "2.7.3"
  }
 },
 "nbformat": 4,
 "nbformat_minor": 0
}
